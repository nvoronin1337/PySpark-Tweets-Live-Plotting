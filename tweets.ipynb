{
 "cells": [
  {
   "cell_type": "code",
   "execution_count": 1,
   "id": "6664c921-cc38-4e63-9682-2dd02b4cf970",
   "metadata": {},
   "outputs": [],
   "source": [
    "from socket import socket, SOL_SOCKET, SO_REUSEADDR\n",
    "import json\n",
    "from twarc import Twarc\n",
    "import env\n",
    "import time"
   ]
  },
  {
   "cell_type": "code",
   "execution_count": 2,
   "id": "6eed3408-e2b4-4f46-8168-adca2cfa7500",
   "metadata": {},
   "outputs": [
    {
     "name": "stdout",
     "output_type": "stream",
     "text": [
      "server socket is ready\n",
      "server socket is listening\n",
      "Received request from client: ('127.0.0.1', 35566)\n"
     ]
    }
   ],
   "source": [
    "# server (local machine) creates listening socket\n",
    "# server (local machine) listens for connections\n",
    "# return the socket and the address on the other side of the connection (client side)\n",
    "s_socket = socket()\n",
    "s_socket.setsockopt(SOL_SOCKET, SO_REUSEADDR, 1)\n",
    "host = \"0.0.0.0\"    \n",
    "port = 5555\n",
    "s_socket.bind((host, port))\n",
    "print('server socket is ready')\n",
    "s_socket.listen(4)\n",
    "print('server socket is listening')\n",
    "c_socket, addr = s_socket.accept()\n",
    "c_socket.setsockopt(SOL_SOCKET, SO_REUSEADDR, 1)\n",
    "print(\"Received request from client: \" + str(addr))"
   ]
  },
  {
   "cell_type": "code",
   "execution_count": 3,
   "id": "401726cb-14ea-41ae-a7b8-3cef974679a7",
   "metadata": {},
   "outputs": [],
   "source": [
    "twarc = Twarc(env.CONSUMER_KEY ,env.CONSUMER_SECRET ,env.ACCESS_TOKEN ,env.ACCESS_TOKEN_SECRET)"
   ]
  },
  {
   "cell_type": "code",
   "execution_count": 4,
   "id": "5828363c-7943-47c0-935d-04b8dad9b725",
   "metadata": {},
   "outputs": [
    {
     "name": "stderr",
     "output_type": "stream",
     "text": [
      "WARNING:twarc:rate limit exceeded: sleeping 476.15457105636597 secs\n"
     ]
    },
    {
     "name": "stdout",
     "output_type": "stream",
     "text": [
      "Interrupted\n"
     ]
    }
   ],
   "source": [
    "# collect Tweets\n",
    "try:\n",
    "    for tweet in twarc.search(\"bitcoin\", lang=\"en\", result_type=\"mixed\"):\n",
    "        c_socket.send(str(tweet[\"full_text\"]+\"t_end\").encode('utf-8'))\n",
    "except KeyboardInterrupt:\n",
    "    print('Interrupted')\n",
    "    c_socket.close()\n",
    "    s_socket.close()"
   ]
  }
 ],
 "metadata": {
  "kernelspec": {
   "display_name": "Python 3 (ipykernel)",
   "language": "python",
   "name": "python3"
  },
  "language_info": {
   "codemirror_mode": {
    "name": "ipython",
    "version": 3
   },
   "file_extension": ".py",
   "mimetype": "text/x-python",
   "name": "python",
   "nbconvert_exporter": "python",
   "pygments_lexer": "ipython3",
   "version": "3.8.8"
  }
 },
 "nbformat": 4,
 "nbformat_minor": 5
}
