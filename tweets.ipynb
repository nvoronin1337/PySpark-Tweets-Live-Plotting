{
 "cells": [
  {
   "cell_type": "code",
   "execution_count": null,
   "source": [
    "from socket import socket, SOL_SOCKET, SO_REUSEADDR\n",
    "import json\n",
    "from twarc import Twarc\n",
    "import env\n",
    "import time"
   ],
   "outputs": [],
   "metadata": {}
  },
  {
   "cell_type": "code",
   "execution_count": null,
   "source": [
    "# server (local machine) creates listening socket\n",
    "# server (local machine) listens for connections\n",
    "# return the socket and the address on the other side of the connection (client side)\n",
    "s_socket = socket()\n",
    "s_socket.setsockopt(SOL_SOCKET, SO_REUSEADDR, 1)\n",
    "host = \"0.0.0.0\"    \n",
    "port = 5555\n",
    "s_socket.bind((host, port))\n",
    "print('server socket is ready')\n",
    "s_socket.listen(4)\n",
    "print('server socket is listening')\n",
    "c_socket, addr = s_socket.accept()\n",
    "c_socket.setsockopt(SOL_SOCKET, SO_REUSEADDR, 1)\n",
    "print(\"Received request from client: \" + str(addr))"
   ],
   "outputs": [],
   "metadata": {}
  },
  {
   "cell_type": "code",
   "execution_count": null,
   "source": [
    "twarc = Twarc(env.CONSUMER_KEY ,env.CONSUMER_SECRET ,env.ACCESS_TOKEN ,env.ACCESS_TOKEN_SECRET)"
   ],
   "outputs": [],
   "metadata": {}
  },
  {
   "cell_type": "code",
   "execution_count": null,
   "source": [
    "# collect Tweets\n",
    "try:\n",
    "    for tweet in twarc.search(\"bitcoin\", lang=\"en\", result_type=\"mixed\"):\n",
    "        c_socket.send(str(tweet[\"full_text\"]+\"t_end\").encode('utf-8'))\n",
    "except KeyboardInterrupt:\n",
    "    print('Interrupted')\n",
    "    c_socket.close()\n",
    "    s_socket.close()\n",
    "    "
   ],
   "outputs": [],
   "metadata": {}
  }
 ],
 "metadata": {
  "kernelspec": {
   "display_name": "Python 3 (ipykernel)",
   "language": "python",
   "name": "python3"
  },
  "language_info": {
   "codemirror_mode": {
    "name": "ipython",
    "version": 3
   },
   "file_extension": ".py",
   "mimetype": "text/x-python",
   "name": "python",
   "nbconvert_exporter": "python",
   "pygments_lexer": "ipython3",
   "version": "3.8.8"
  }
 },
 "nbformat": 4,
 "nbformat_minor": 5
}