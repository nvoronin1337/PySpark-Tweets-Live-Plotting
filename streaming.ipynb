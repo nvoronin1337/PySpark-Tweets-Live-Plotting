{
 "cells": [
  {
   "cell_type": "code",
   "execution_count": 1,
   "id": "60ced469-2213-40bc-a677-a961452a4ff8",
   "metadata": {},
   "outputs": [
    {
     "data": {
      "text/plain": [
       "\"\\nimport logging\\nimport sys\\nmy_stderr = sys.stderr = open('errors.txt', 'w')  # redirect stderr to file\\nget_ipython().log.handlers[0].stream = my_stderr  # log errors to new stderr\\nget_ipython().log.setLevel(logging.INFO)  # errors are logged at info level\\n\""
      ]
     },
     "execution_count": 1,
     "metadata": {},
     "output_type": "execute_result"
    }
   ],
   "source": [
    "'''\n",
    "import logging\n",
    "import sys\n",
    "my_stderr = sys.stderr = open('errors.txt', 'w')  # redirect stderr to file\n",
    "get_ipython().log.handlers[0].stream = my_stderr  # log errors to new stderr\n",
    "get_ipython().log.setLevel(logging.INFO)  # errors are logged at info level\n",
    "'''"
   ]
  },
  {
   "cell_type": "code",
   "execution_count": 2,
   "id": "4cff9fc3-8b84-4787-a2c9-85870563a5d3",
   "metadata": {},
   "outputs": [],
   "source": [
    "from pyspark.sql import SparkSession\n",
    "from pyspark.sql.types import StringType\n",
    "from pyspark.sql import functions as F"
   ]
  },
  {
   "cell_type": "code",
   "execution_count": 3,
   "id": "da69abd0-5925-45b9-982c-d38436d0e47f",
   "metadata": {},
   "outputs": [],
   "source": [
    "from pyspark import SparkConf,SparkContext\n",
    "from pyspark.streaming import StreamingContext\n",
    "from pyspark.sql import Row,SQLContext\n",
    "import requests\n",
    "import sys"
   ]
  },
  {
   "cell_type": "code",
   "execution_count": 4,
   "id": "c64e01eb-e589-47fb-b70b-de8f44831bdb",
   "metadata": {},
   "outputs": [
    {
     "name": "stderr",
     "output_type": "stream",
     "text": [
      "[nltk_data] Downloading package vader_lexicon to\n",
      "[nltk_data]     /home/nikita/nltk_data...\n",
      "[nltk_data]   Package vader_lexicon is already up-to-date!\n"
     ]
    },
    {
     "data": {
      "text/plain": [
       "True"
      ]
     },
     "execution_count": 4,
     "metadata": {},
     "output_type": "execute_result"
    }
   ],
   "source": [
    "from nltk.sentiment import SentimentIntensityAnalyzer\n",
    "import nltk\n",
    "nltk.download('vader_lexicon')"
   ]
  },
  {
   "cell_type": "code",
   "execution_count": 5,
   "id": "f5048bd4-369b-46d2-b251-c2fea4eb2408",
   "metadata": {},
   "outputs": [],
   "source": [
    "def compound_detection(text):\n",
    "    sia = SentimentIntensityAnalyzer()\n",
    "    return sia.polarity_scores(text)[\"compound\"]\n",
    "\n",
    "def pos_detection(text):\n",
    "    sia = SentimentIntensityAnalyzer()\n",
    "    return sia.polarity_scores(text)[\"pos\"]\n",
    "\n",
    "def neu_detection(text):\n",
    "    sia = SentimentIntensityAnalyzer()\n",
    "    return sia.polarity_scores(text)[\"neu\"]\n",
    "\n",
    "def neg_detection(text):\n",
    "    sia = SentimentIntensityAnalyzer()\n",
    "    return sia.polarity_scores(text)[\"neg\"]\n",
    "\n",
    "def sentiment_analysis(tweets):\n",
    "    compound_detection_udf = F.udf(compound_detection, StringType())\n",
    "    tweets = tweets.withColumn(\"comp\", compound_detection_udf(\"tweet\"))\n",
    "    \n",
    "    positivity_detection_udf = F.udf(pos_detection, StringType())\n",
    "    tweets = tweets.withColumn(\"pos\", positivity_detection_udf(\"tweet\"))\n",
    "    \n",
    "    neu_detection_udf = F.udf(neu_detection, StringType())\n",
    "    tweets = tweets.withColumn(\"neu\", neu_detection_udf(\"tweet\"))\n",
    "    \n",
    "    neg_detection_udf = F.udf(neg_detection, StringType())\n",
    "    tweets = tweets.withColumn(\"neg\", neg_detection_udf(\"tweet\"))\n",
    "    \n",
    "    return tweets"
   ]
  },
  {
   "cell_type": "code",
   "execution_count": 6,
   "id": "7ab8baa9-8601-4e95-bb18-af2bd5de4ded",
   "metadata": {},
   "outputs": [],
   "source": [
    "def clean_tweets(tweets):\n",
    "    tweets = tweets.na.replace('', None)\n",
    "    tweets = tweets.na.drop()\n",
    "\n",
    "    # Clean Tweet Text \n",
    "    tweets = tweets.withColumn('tweet', F.regexp_replace('tweet', r'http\\S+', ''))\n",
    "    tweets = tweets.withColumn('tweet', F.regexp_replace('tweet', r'(#\\w+)', ''))\n",
    "    tweets = tweets.withColumn('tweet', F.regexp_replace('tweet', r'(@\\w+)', ''))\n",
    "    tweets = tweets.withColumn('tweet', F.regexp_replace('tweet', ':', ''))\n",
    "    tweets = tweets.withColumn('tweet', F.regexp_replace('tweet', 'RT', ''))\n",
    "    tweets = tweets.withColumn('tweet', F.regexp_replace('tweet', r'[^a-zA-Z0-9 -]', ''))\n",
    "    tweets = tweets.withColumn('tweet', F.trim(tweets.tweet))\n",
    "    tweets.show(2, False)\n",
    "    return tweets"
   ]
  },
  {
   "cell_type": "code",
   "execution_count": 7,
   "id": "da52e109-a54f-4dd0-824d-8d3bc31e0abc",
   "metadata": {},
   "outputs": [],
   "source": [
    "def aggregate_data_count(new_values, total_sum):\n",
    "    return sum(new_values) + (total_sum or 0)"
   ]
  },
  {
   "cell_type": "code",
   "execution_count": 8,
   "id": "74185ab3-062d-4a35-a092-e9dd56d59f75",
   "metadata": {},
   "outputs": [],
   "source": [
    "def get_sql_context_instance(spark_context):\n",
    "    if ('sqlContextSingletonInstance' not in globals()):\n",
    "        globals()['sqlContextSingletonInstance'] = SQLContext(spark_context)\n",
    "    return globals()['sqlContextSingletonInstance']"
   ]
  },
  {
   "cell_type": "code",
   "execution_count": 9,
   "id": "0122fd13-3727-4ea7-8c14-be3276878d89",
   "metadata": {},
   "outputs": [],
   "source": [
    "def send_hashtag_df_to_dashboard(df):\n",
    "    # extract the hashtags from dataframe and convert them into arraycompound\n",
    "    top_tags = [str(t.hashtag) for t in df.select(\"hashtag\").collect()]\n",
    "    # extract the counts from dataframe and convert them into array\n",
    "    tags_count = [p.hashtag_count for p in df.select(\"hashtag_count\").collect()]\n",
    "    # initialize and send the data through REST API\n",
    "    url = 'http://localhost:5001/hashtags/updateData'\n",
    "    request_data = {'label': str(top_tags), 'data': str(tags_count)}\n",
    "    response = requests.post(url, data=request_data)"
   ]
  },
  {
   "cell_type": "code",
   "execution_count": 10,
   "id": "1f976a30-edf8-49e7-8196-088108068184",
   "metadata": {},
   "outputs": [],
   "source": [
    "def send_user_mentions_df_to_dashboard(df):\n",
    "    # extract the mentions from dataframe and convert them into array\n",
    "    top_users = [str(t.mention) for t in df.select(\"mention\").collect()]\n",
    "    # extract the counts from dataframe and convert them into array\n",
    "    users_count = [p.mention_count for p in df.select(\"mention_count\").collect()]\n",
    "    # initialize and send the data through REST API\n",
    "    url = 'http://localhost:5001/mentions/updateData'\n",
    "    request_data = {'label': str(top_users), 'data': str(users_count)}\n",
    "    response = requests.post(url, data=request_data)"
   ]
  },
  {
   "cell_type": "code",
   "execution_count": 11,
   "id": "40077f2b-a8e3-4908-8937-08b0f8708867",
   "metadata": {},
   "outputs": [],
   "source": [
    "def send_sentiment_analysis_to_dashboard(df):\n",
    "    # extract sentiment analysis results\n",
    "    comp_lst = [float(t.comp) for t in df.select(\"comp\").collect()]\n",
    "    comp_mean = sum(comp_lst)/len(comp_lst)\n",
    "    pos_lst = [float(t.pos) for t in df.select(\"pos\").collect()]\n",
    "    pos_mean = sum(pos_lst)/len(pos_lst)\n",
    "    neu_lst = [float(t.neu) for t in df.select(\"neu\").collect()]\n",
    "    neu_mean = sum(neu_lst)/len(neu_lst)\n",
    "    neg_lst = [float(t.neg) for t in df.select(\"neg\").collect()]\n",
    "    neg_mean = sum(neg_lst)/len(neg_lst)\n",
    "    url = 'http://localhost:5001/sentiment/updateData'\n",
    "    request_data = {'comp': str(comp_mean), 'pos': str(pos_mean), 'neu': str(neu_mean), 'neg': str(neg_mean)}\n",
    "    response = requests.post(url, data=request_data)"
   ]
  },
  {
   "cell_type": "code",
   "execution_count": 12,
   "id": "cc2ca133-b43c-4d5a-856a-b02dfca55a36",
   "metadata": {},
   "outputs": [],
   "source": [
    "def process_rdd_hashtags(time, rdd):\n",
    "    print(\"HASHTAG----------- %s -----------\" % str(time))\n",
    "    try:\n",
    "        # Get spark sql singleton context from the current context\n",
    "        sql_context = get_sql_context_instance(rdd.context)\n",
    "        # convert the RDD to Row RDD\n",
    "        row_rdd = rdd.map(lambda w: Row(hashtag=w[0], hashtag_count=w[1]))\n",
    "        # create a DF from the Row RDD\n",
    "        hashtags_df = sql_context.createDataFrame(row_rdd)\n",
    "        # Register the dataframe as table\n",
    "        hashtags_df.registerTempTable(\"hashtags\")\n",
    "        # get the top 10 hashtags from the table using SQL and print them\n",
    "        hashtag_counts_df = sql_context.sql(\"select hashtag, hashtag_count from hashtags order by hashtag_count desc limit 20\")\n",
    "        # call this method to prepare top 10 hashtags DF and send them\n",
    "        hashtag_counts_df.show(2)\n",
    "        send_hashtag_df_to_dashboard(hashtag_counts_df)\n",
    "    except:\n",
    "        e = sys.exc_info()[0]\n",
    "        print(\"Error: %s\" % e)"
   ]
  },
  {
   "cell_type": "code",
   "execution_count": 13,
   "id": "6903c87f-2a27-4748-ae6a-e69bc83268a5",
   "metadata": {},
   "outputs": [],
   "source": [
    "def process_rdd_mentions(time, rdd):\n",
    "    print(\"MENTION----------- %s -----------\" % str(time))\n",
    "    try:\n",
    "        # Get spark sql singleton context from the current context\n",
    "        sql_context = get_sql_context_instance(rdd.context)\n",
    "        # convert the RDD to Row RDD\n",
    "        row_rdd = rdd.map(lambda w: Row(mention=w[0], mention_count=w[1]))\n",
    "        # create a DF from the Row RDD\n",
    "        mentions_df = sql_context.createDataFrame(row_rdd)\n",
    "        # Register the dataframe as table\n",
    "        mentions_df.registerTempTable(\"mentions\")\n",
    "        # get the top 10 hashtags from the table using SQL and print them\n",
    "        mentions_count_df = sql_context.sql(\"select mention, mention_count from mentions order by mention_count desc limit 20\")\n",
    "        # call this method to prepare top 10 hashtags DF and send them\n",
    "        send_user_mentions_df_to_dashboard(mentions_count_df)\n",
    "    except:\n",
    "        e = sys.exc_info()[0]\n",
    "        print(\"Error: %s\" % e)"
   ]
  },
  {
   "cell_type": "code",
   "execution_count": 14,
   "id": "3dd6183e-8cd9-42ec-8c29-13ff3c51f632",
   "metadata": {},
   "outputs": [],
   "source": [
    "def process_rdd_sentiment(time, rdd):\n",
    "    print(\"SENTIMENT----------- %s -----------\" % str(time))\n",
    "    try:\n",
    "        # Get spark sql singleton context from the current context\n",
    "        sql_context = get_sql_context_instance(rdd.context)\n",
    "        # convert the RDD to Row RDD\n",
    "        row_rdd = rdd.map(lambda w: Row(tweet=w[0], comp=w[1]))\n",
    "        # create a DF from the Row RDD\n",
    "        sentiment_df = sql_context.createDataFrame(row_rdd)\n",
    "        # Register the dataframe as table\n",
    "        sentiment_df.registerTempTable(\"sentiment\")\n",
    "        # get the top 10 hashtags from the table using SQL and print them\n",
    "        sentiment_raw_df = sql_context.sql(\"select tweet, comp from sentiment order by comp desc limit 50\")\n",
    "        sentiment_clean_df = clean_tweets(sentiment_raw_df)\n",
    "        sentiment_analyzed_df = sentiment_analysis(sentiment_clean_df)\n",
    "        # call this method to prepare comp mean DF and send it\n",
    "        send_sentiment_analysis_to_dashboard(sentiment_analyzed_df)\n",
    "    except:\n",
    "        e = sys.exc_info()[0]\n",
    "        print(\"Error: %s\" % e)"
   ]
  },
  {
   "cell_type": "code",
   "execution_count": 15,
   "id": "09e74fb0-99be-437c-8aa1-67f21bfbf534",
   "metadata": {},
   "outputs": [
    {
     "name": "stderr",
     "output_type": "stream",
     "text": [
      "21/07/29 23:09:25 WARN Utils: Your hostname, nikita-Blade resolves to a loopback address: 127.0.1.1; using 192.168.99.126 instead (on interface wlp2s0)\n",
      "21/07/29 23:09:25 WARN Utils: Set SPARK_LOCAL_IP if you need to bind to another address\n",
      "21/07/29 23:09:25 WARN NativeCodeLoader: Unable to load native-hadoop library for your platform... using builtin-java classes where applicable\n",
      "Using Spark's default log4j profile: org/apache/spark/log4j-defaults.properties\n",
      "Setting default log level to \"WARN\".\n",
      "To adjust logging level use sc.setLogLevel(newLevel). For SparkR, use setLogLevel(newLevel).\n"
     ]
    }
   ],
   "source": [
    "# create spark configuration\n",
    "conf = SparkConf()\n",
    "conf.setAppName(\"TwitterStreamApp\")\n",
    "# create spark context with the above configuration\n",
    "sc = SparkContext(conf=conf)\n",
    "sc.setLogLevel(\"ERROR\")\n",
    "# create the Streaming Context from the above spark context with interval size 2 seconds\n",
    "ssc = StreamingContext(sc, 2)\n",
    "# setting a checkpoint to allow RDD recovery\n",
    "ssc.checkpoint(\"checkpoint_TwitterApp\")\n",
    "# read data from port 9009\n",
    "dataStream = ssc.socketTextStream(\"0.0.0.0\",5555)"
   ]
  },
  {
   "cell_type": "code",
   "execution_count": 16,
   "id": "34f27205-f70f-4c27-a024-cf768e8397f1",
   "metadata": {},
   "outputs": [],
   "source": [
    "# split each line into tweets\n",
    "tweets = dataStream.flatMap(lambda line: line.split(\"t_end\"))\n",
    "# split each tweet into words\n",
    "words = dataStream.flatMap(lambda text: text.split(\" \"))"
   ]
  },
  {
   "cell_type": "code",
   "execution_count": 17,
   "id": "ca0af1a1-dff9-4fb1-994a-e18864127bdf",
   "metadata": {},
   "outputs": [],
   "source": [
    "# filter the words to get only hashtags/mentions, then map each hashtag/mention to be a pair of (hashtag/mention,1)\n",
    "hashtags = words.filter(lambda w: '#' in w).map(lambda x: (x.upper(), 1))\n",
    "mentions = words.filter(lambda w: '@' in w).map(lambda x: (x.upper(), 1))\n",
    "sentiment = tweets.filter(lambda w: ' ' in w).map(lambda x: (x, 0.0))"
   ]
  },
  {
   "cell_type": "code",
   "execution_count": 18,
   "id": "ff695c25-00b4-402b-9d6d-bf41b65f1df0",
   "metadata": {},
   "outputs": [],
   "source": [
    "# adding the count of each hashtag/mention to its last countsentiment_values_df\n",
    "hashtags_totals = hashtags.updateStateByKey(aggregate_data_count)\n",
    "mentions_totals = mentions.updateStateByKey(aggregate_data_count)\n",
    "sentiment_totals = sentiment.updateStateByKey(aggregate_data_count)"
   ]
  },
  {
   "cell_type": "code",
   "execution_count": 19,
   "id": "3277c088-2762-4cc0-b95c-a9be3e0ce167",
   "metadata": {},
   "outputs": [],
   "source": [
    "# do processing for each RDD generated in each interval\n",
    "hashtags_totals.foreachRDD(process_rdd_hashtags)\n",
    "mentions_totals.foreachRDD(process_rdd_mentions)\n",
    "sentiment_totals.foreachRDD(process_rdd_sentiment)"
   ]
  },
  {
   "cell_type": "code",
   "execution_count": null,
   "id": "5e698961-42d8-4b5c-a53a-253e655f87fb",
   "metadata": {},
   "outputs": [
    {
     "name": "stderr",
     "output_type": "stream",
     "text": [
      "[Stage 0:>                                                          (0 + 1) / 1]\r"
     ]
    },
    {
     "name": "stdout",
     "output_type": "stream",
     "text": [
      "HASHTAG----------- 2021-07-29 23:09:28 -----------\n"
     ]
    },
    {
     "name": "stderr",
     "output_type": "stream",
     "text": [
      "                                                                                \r"
     ]
    },
    {
     "name": "stdout",
     "output_type": "stream",
     "text": [
      "Error: <class 'ValueError'>\n",
      "MENTION----------- 2021-07-29 23:09:28 -----------\n",
      "Error: <class 'ValueError'>\n",
      "SENTIMENT----------- 2021-07-29 23:09:28 -----------\n",
      "Error: <class 'ValueError'>\n",
      "HASHTAG----------- 2021-07-29 23:09:30 -----------\n"
     ]
    },
    {
     "name": "stderr",
     "output_type": "stream",
     "text": [
      "                                                                                \r"
     ]
    },
    {
     "name": "stdout",
     "output_type": "stream",
     "text": [
      "+---------+-------------+\n",
      "|  hashtag|hashtag_count|\n",
      "+---------+-------------+\n",
      "|   #COVID|           16|\n",
      "|#COVID-19|            4|\n",
      "+---------+-------------+\n",
      "only showing top 2 rows\n",
      "\n",
      "MENTION----------- 2021-07-29 23:09:30 -----------\n",
      "SENTIMENT----------- 2021-07-29 23:09:30 -----------\n"
     ]
    },
    {
     "name": "stderr",
     "output_type": "stream",
     "text": [
      "                                                                                \r"
     ]
    },
    {
     "name": "stdout",
     "output_type": "stream",
     "text": [
      "+--------------------------------------------------------------------------------------------------------------------+----+\n",
      "|tweet                                                                                                               |comp|\n",
      "+--------------------------------------------------------------------------------------------------------------------+----+\n",
      "|The founder of Shake Shack says his company will require proof of Covid vaccination for both employees AND customers|0.0 |\n",
      "|Figure that COVID isnt trying to destroy a political party it is trying to destroy an entire                        |0.0 |\n",
      "+--------------------------------------------------------------------------------------------------------------------+----+\n",
      "only showing top 2 rows\n",
      "\n"
     ]
    },
    {
     "name": "stderr",
     "output_type": "stream",
     "text": [
      "                                                                                \r"
     ]
    },
    {
     "name": "stdout",
     "output_type": "stream",
     "text": [
      "HASHTAG----------- 2021-07-29 23:09:32 -----------\n",
      "+--------+-------------+\n",
      "| hashtag|hashtag_count|\n",
      "+--------+-------------+\n",
      "|  #COVID|           31|\n",
      "|#COVID19|            8|\n",
      "+--------+-------------+\n",
      "only showing top 2 rows\n",
      "\n",
      "MENTION----------- 2021-07-29 23:09:32 -----------\n",
      "SENTIMENT----------- 2021-07-29 23:09:32 -----------\n",
      "+--------------------------------------------------------------------------------------------------------------------------------------------------------------------------------------------------------------------------------------------------------------+----+\n",
      "|tweet                                                                                                                                                                                                                                                         |comp|\n",
      "+--------------------------------------------------------------------------------------------------------------------------------------------------------------------------------------------------------------------------------------------------------------+----+\n",
      "|25-year-old Gesti was by all accounts a dedicated doctor mother amp friend She tested positive for COVID on July 2 and gave birth on July 3 By July 22 she had died Her husband Sunni hopes her story is a wake up call for Indonesians on the threat of Delta|0   |\n",
      "|JUNTA USE COVID-19 AS A WEAPON                                                                                                                                                                                                                                |0   |\n",
      "+--------------------------------------------------------------------------------------------------------------------------------------------------------------------------------------------------------------------------------------------------------------+----+\n",
      "only showing top 2 rows\n",
      "\n"
     ]
    },
    {
     "name": "stderr",
     "output_type": "stream",
     "text": [
      "                                                                                \r"
     ]
    },
    {
     "name": "stdout",
     "output_type": "stream",
     "text": [
      "HASHTAG----------- 2021-07-29 23:09:34 -----------\n",
      "+--------+-------------+\n",
      "| hashtag|hashtag_count|\n",
      "+--------+-------------+\n",
      "|  #COVID|           48|\n",
      "|#COVID19|           12|\n",
      "+--------+-------------+\n",
      "only showing top 2 rows\n",
      "\n",
      "MENTION----------- 2021-07-29 23:09:34 -----------\n",
      "SENTIMENT----------- 2021-07-29 23:09:34 -----------\n",
      "+--------------------------------------------------------------------------------------------------------------------+----+\n",
      "|tweet                                                                                                               |comp|\n",
      "+--------------------------------------------------------------------------------------------------------------------+----+\n",
      "|The founder of Shake Shack says his company will require proof of Covid vaccination for both employees AND customers|0   |\n",
      "|Figure that COVID isnt trying to destroy a political party it is trying to destroy an entire                        |0   |\n",
      "+--------------------------------------------------------------------------------------------------------------------+----+\n",
      "only showing top 2 rows\n",
      "\n"
     ]
    },
    {
     "name": "stderr",
     "output_type": "stream",
     "text": [
      "                                                                                \r"
     ]
    },
    {
     "name": "stdout",
     "output_type": "stream",
     "text": [
      "HASHTAG----------- 2021-07-29 23:09:36 -----------\n",
      "+--------+-------------+\n",
      "| hashtag|hashtag_count|\n",
      "+--------+-------------+\n",
      "|  #COVID|           65|\n",
      "|#COVID19|           18|\n",
      "+--------+-------------+\n",
      "only showing top 2 rows\n",
      "\n",
      "MENTION----------- 2021-07-29 23:09:36 -----------\n",
      "SENTIMENT----------- 2021-07-29 23:09:36 -----------\n",
      "+---------------------------------------------------------------------------------------------+----+\n",
      "|tweet                                                                                        |comp|\n",
      "+---------------------------------------------------------------------------------------------+----+\n",
      "|One possible reason is that the long term vs nearmid say 6 months of Moderna is being studied|0   |\n",
      "|29072021 khan COVID-19 positive 774 hmuhchhuah a ni a                                        |0   |\n",
      "+---------------------------------------------------------------------------------------------+----+\n",
      "only showing top 2 rows\n",
      "\n"
     ]
    },
    {
     "name": "stderr",
     "output_type": "stream",
     "text": [
      "                                                                                \r"
     ]
    },
    {
     "name": "stdout",
     "output_type": "stream",
     "text": [
      "HASHTAG----------- 2021-07-29 23:09:38 -----------\n",
      "+--------+-------------+\n",
      "| hashtag|hashtag_count|\n",
      "+--------+-------------+\n",
      "|  #COVID|           81|\n",
      "|#COVID19|           21|\n",
      "+--------+-------------+\n",
      "only showing top 2 rows\n",
      "\n",
      "MENTION----------- 2021-07-29 23:09:38 -----------\n",
      "SENTIMENT----------- 2021-07-29 23:09:38 -----------\n",
      "+--------------------------------------------------------------------------------------------------------------------+----+\n",
      "|tweet                                                                                                               |comp|\n",
      "+--------------------------------------------------------------------------------------------------------------------+----+\n",
      "|Vaccinated vs Placebo                                                                                               |0   |\n",
      "|With half the country vaccinated overall rates of death and serious illness from COVID have plummeted Progressives a|0   |\n",
      "+--------------------------------------------------------------------------------------------------------------------+----+\n",
      "only showing top 2 rows\n",
      "\n"
     ]
    },
    {
     "name": "stderr",
     "output_type": "stream",
     "text": [
      "                                                                                \r"
     ]
    },
    {
     "name": "stdout",
     "output_type": "stream",
     "text": [
      "HASHTAG----------- 2021-07-29 23:09:40 -----------\n",
      "+--------+-------------+\n",
      "| hashtag|hashtag_count|\n",
      "+--------+-------------+\n",
      "|  #COVID|          102|\n",
      "|#COVID19|           25|\n",
      "+--------+-------------+\n",
      "only showing top 2 rows\n",
      "\n",
      "MENTION----------- 2021-07-29 23:09:40 -----------\n",
      "SENTIMENT----------- 2021-07-29 23:09:40 -----------\n",
      "+--------------------------------------------------------------------------------------------------------+----+\n",
      "|tweet                                                                                                   |comp|\n",
      "+--------------------------------------------------------------------------------------------------------+----+\n",
      "|More people have been murdered in the last four days in DC than have died of Covid in the last two weeks|0   |\n",
      "|I feel like it will never end Is Covid what will wipe out society as a whole                            |0   |\n",
      "+--------------------------------------------------------------------------------------------------------+----+\n",
      "only showing top 2 rows\n",
      "\n"
     ]
    },
    {
     "name": "stderr",
     "output_type": "stream",
     "text": [
      "                                                                                \r"
     ]
    },
    {
     "name": "stdout",
     "output_type": "stream",
     "text": [
      "HASHTAG----------- 2021-07-29 23:09:42 -----------\n",
      "+--------+-------------+\n",
      "| hashtag|hashtag_count|\n",
      "+--------+-------------+\n",
      "|  #COVID|          118|\n",
      "|#COVID19|           29|\n",
      "+--------+-------------+\n",
      "only showing top 2 rows\n",
      "\n",
      "MENTION----------- 2021-07-29 23:09:42 -----------\n",
      "SENTIMENT----------- 2021-07-29 23:09:42 -----------\n",
      "+-----------------------------------------------------------------------------------------------------------------------+----+\n",
      "|tweet                                                                                                                  |comp|\n",
      "+-----------------------------------------------------------------------------------------------------------------------+----+\n",
      "|- New cases 96085                                                                                                      |0   |\n",
      "|As per the left leaning media Keralas unstoppable rise in active Covid cases is actually the result of smart pandemic m|0   |\n",
      "+-----------------------------------------------------------------------------------------------------------------------+----+\n",
      "only showing top 2 rows\n",
      "\n"
     ]
    },
    {
     "name": "stderr",
     "output_type": "stream",
     "text": [
      "                                                                                \r"
     ]
    },
    {
     "name": "stdout",
     "output_type": "stream",
     "text": [
      "HASHTAG----------- 2021-07-29 23:09:44 -----------\n",
      "+--------+-------------+\n",
      "| hashtag|hashtag_count|\n",
      "+--------+-------------+\n",
      "|  #COVID|          140|\n",
      "|#COVID19|           33|\n",
      "+--------+-------------+\n",
      "only showing top 2 rows\n",
      "\n",
      "MENTION----------- 2021-07-29 23:09:44 -----------\n",
      "SENTIMENT----------- 2021-07-29 23:09:44 -----------\n",
      "+-----------------------------------------------------------------------------------------------------------------------+----+\n",
      "|tweet                                                                                                                  |comp|\n",
      "+-----------------------------------------------------------------------------------------------------------------------+----+\n",
      "|Vaccinated vs Placebo                                                                                                  |0   |\n",
      "|As per the left leaning media Keralas unstoppable rise in active Covid cases is actually the result of smart pandemic m|0   |\n",
      "+-----------------------------------------------------------------------------------------------------------------------+----+\n",
      "only showing top 2 rows\n",
      "\n"
     ]
    },
    {
     "name": "stderr",
     "output_type": "stream",
     "text": [
      "                                                                                \r"
     ]
    },
    {
     "name": "stdout",
     "output_type": "stream",
     "text": [
      "HASHTAG----------- 2021-07-29 23:09:46 -----------\n",
      "+--------+-------------+\n",
      "| hashtag|hashtag_count|\n",
      "+--------+-------------+\n",
      "|  #COVID|          158|\n",
      "|#COVID19|           36|\n",
      "+--------+-------------+\n",
      "only showing top 2 rows\n",
      "\n",
      "MENTION----------- 2021-07-29 23:09:46 -----------\n",
      "SENTIMENT----------- 2021-07-29 23:09:46 -----------\n",
      "+--------------------------------------------------------------------------------------------------------------------------+----+\n",
      "|tweet                                                                                                                     |comp|\n",
      "+--------------------------------------------------------------------------------------------------------------------------+----+\n",
      "|More people have been murdered in the last four days in DC than have died of Covid in the last two weeks                  |0   |\n",
      "|Everyones rightly concerned about Delta but the kicker at the end of this article is the real point which is that everyone|0   |\n",
      "+--------------------------------------------------------------------------------------------------------------------------+----+\n",
      "only showing top 2 rows\n",
      "\n"
     ]
    },
    {
     "name": "stderr",
     "output_type": "stream",
     "text": [
      "                                                                                \r"
     ]
    },
    {
     "name": "stdout",
     "output_type": "stream",
     "text": [
      "HASHTAG----------- 2021-07-29 23:09:48 -----------\n",
      "+--------+-------------+\n",
      "| hashtag|hashtag_count|\n",
      "+--------+-------------+\n",
      "|  #COVID|          182|\n",
      "|#COVID19|           39|\n",
      "+--------+-------------+\n",
      "only showing top 2 rows\n",
      "\n",
      "MENTION----------- 2021-07-29 23:09:48 -----------\n",
      "SENTIMENT----------- 2021-07-29 23:09:48 -----------\n",
      "+--------------------------------------------------------------------------------------------------------+----+\n",
      "|tweet                                                                                                   |comp|\n",
      "+--------------------------------------------------------------------------------------------------------+----+\n",
      "|More people have been murdered in the last four days in DC than have died of Covid in the last two weeks|0   |\n",
      "|Anti vaxxers The vaccine is not FDA approved                                                            |0   |\n",
      "+--------------------------------------------------------------------------------------------------------+----+\n",
      "only showing top 2 rows\n",
      "\n",
      "HASHTAG----------- 2021-07-29 23:09:50 -----------\n",
      "+--------+-------------+\n",
      "| hashtag|hashtag_count|\n",
      "+--------+-------------+\n",
      "|  #COVID|          208|\n",
      "|#COVID19|           44|\n",
      "+--------+-------------+\n",
      "only showing top 2 rows\n",
      "\n",
      "MENTION----------- 2021-07-29 23:09:50 -----------\n",
      "SENTIMENT----------- 2021-07-29 23:09:50 -----------\n",
      "+--------------------------------------------------------------------------------------------------------------------+----+\n",
      "|tweet                                                                                                               |comp|\n",
      "+--------------------------------------------------------------------------------------------------------------------+----+\n",
      "|- New cases 96085                                                                                                   |0   |\n",
      "|With half the country vaccinated overall rates of death and serious illness from COVID have plummeted Progressives a|0   |\n",
      "+--------------------------------------------------------------------------------------------------------------------+----+\n",
      "only showing top 2 rows\n",
      "\n"
     ]
    },
    {
     "name": "stderr",
     "output_type": "stream",
     "text": [
      "                                                                                \r"
     ]
    },
    {
     "name": "stdout",
     "output_type": "stream",
     "text": [
      "HASHTAG----------- 2021-07-29 23:09:52 -----------\n",
      "+--------+-------------+\n",
      "| hashtag|hashtag_count|\n",
      "+--------+-------------+\n",
      "|  #COVID|          224|\n",
      "|#COVID19|           48|\n",
      "+--------+-------------+\n",
      "only showing top 2 rows\n",
      "\n",
      "MENTION----------- 2021-07-29 23:09:52 -----------\n",
      "SENTIMENT----------- 2021-07-29 23:09:52 -----------\n",
      "+---------------------------------------------------------------------------------------------+----+\n",
      "|tweet                                                                                        |comp|\n",
      "+---------------------------------------------------------------------------------------------+----+\n",
      "|One possible reason is that the long term vs nearmid say 6 months of Moderna is being studied|0   |\n",
      "|Anti vaxxers The vaccine is not FDA approved                                                 |0   |\n",
      "+---------------------------------------------------------------------------------------------+----+\n",
      "only showing top 2 rows\n",
      "\n"
     ]
    },
    {
     "name": "stderr",
     "output_type": "stream",
     "text": [
      "                                                                                \r"
     ]
    },
    {
     "name": "stdout",
     "output_type": "stream",
     "text": [
      "HASHTAG----------- 2021-07-29 23:09:54 -----------\n",
      "+--------+-------------+\n",
      "| hashtag|hashtag_count|\n",
      "+--------+-------------+\n",
      "|  #COVID|          235|\n",
      "|#COVID19|           55|\n",
      "+--------+-------------+\n",
      "only showing top 2 rows\n",
      "\n",
      "MENTION----------- 2021-07-29 23:09:54 -----------\n",
      "SENTIMENT----------- 2021-07-29 23:09:54 -----------\n",
      "+--------------------------------------------------------------------------------------------------------+----+\n",
      "|tweet                                                                                                   |comp|\n",
      "+--------------------------------------------------------------------------------------------------------+----+\n",
      "|More people have been murdered in the last four days in DC than have died of Covid in the last two weeks|0   |\n",
      "|I feel like it will never end Is Covid what will wipe out society as a whole                            |0   |\n",
      "+--------------------------------------------------------------------------------------------------------+----+\n",
      "only showing top 2 rows\n",
      "\n",
      "HASHTAG----------- 2021-07-29 23:09:56 -----------\n",
      "+--------+-------------+\n",
      "| hashtag|hashtag_count|\n",
      "+--------+-------------+\n",
      "|  #COVID|          250|\n",
      "|#COVID19|           60|\n",
      "+--------+-------------+\n",
      "only showing top 2 rows\n",
      "\n",
      "MENTION----------- 2021-07-29 23:09:56 -----------\n",
      "SENTIMENT----------- 2021-07-29 23:09:56 -----------\n",
      "+---------------------------------------------------------------------------------------------+----+\n",
      "|tweet                                                                                        |comp|\n",
      "+---------------------------------------------------------------------------------------------+----+\n",
      "|One possible reason is that the long term vs nearmid say 6 months of Moderna is being studied|0   |\n",
      "|Anti vaxxers The vaccine is not FDA approved                                                 |0   |\n",
      "+---------------------------------------------------------------------------------------------+----+\n",
      "only showing top 2 rows\n",
      "\n"
     ]
    },
    {
     "name": "stderr",
     "output_type": "stream",
     "text": [
      "                                                                                \r"
     ]
    },
    {
     "name": "stdout",
     "output_type": "stream",
     "text": [
      "HASHTAG----------- 2021-07-29 23:09:58 -----------\n",
      "+--------+-------------+\n",
      "| hashtag|hashtag_count|\n",
      "+--------+-------------+\n",
      "|  #COVID|          262|\n",
      "|#COVID19|           66|\n",
      "+--------+-------------+\n",
      "only showing top 2 rows\n",
      "\n",
      "MENTION----------- 2021-07-29 23:09:58 -----------\n",
      "SENTIMENT----------- 2021-07-29 23:09:58 -----------\n",
      "+--------------------------------------------------------------------------------------------------------+----+\n",
      "|tweet                                                                                                   |comp|\n",
      "+--------------------------------------------------------------------------------------------------------+----+\n",
      "|More people have been murdered in the last four days in DC than have died of Covid in the last two weeks|0   |\n",
      "|I feel like it will never end Is Covid what will wipe out society as a whole                            |0   |\n",
      "+--------------------------------------------------------------------------------------------------------+----+\n",
      "only showing top 2 rows\n",
      "\n"
     ]
    },
    {
     "name": "stderr",
     "output_type": "stream",
     "text": [
      "                                                                                \r"
     ]
    },
    {
     "name": "stdout",
     "output_type": "stream",
     "text": [
      "HASHTAG----------- 2021-07-29 23:10:00 -----------\n",
      "+--------+-------------+\n",
      "| hashtag|hashtag_count|\n",
      "+--------+-------------+\n",
      "|  #COVID|          281|\n",
      "|#COVID19|           70|\n",
      "+--------+-------------+\n",
      "only showing top 2 rows\n",
      "\n",
      "MENTION----------- 2021-07-29 23:10:00 -----------\n",
      "SENTIMENT----------- 2021-07-29 23:10:00 -----------\n",
      "+--------------------------------------------------+----+\n",
      "|tweet                                             |comp|\n",
      "+--------------------------------------------------+----+\n",
      "|- New cases 96085                                 |0   |\n",
      "|Are you against all vaccines or just the covid one|0   |\n",
      "+--------------------------------------------------+----+\n",
      "only showing top 2 rows\n",
      "\n"
     ]
    },
    {
     "name": "stderr",
     "output_type": "stream",
     "text": [
      "                                                                                \r"
     ]
    },
    {
     "name": "stdout",
     "output_type": "stream",
     "text": [
      "HASHTAG----------- 2021-07-29 23:10:02 -----------\n",
      "+--------+-------------+\n",
      "| hashtag|hashtag_count|\n",
      "+--------+-------------+\n",
      "|  #COVID|          296|\n",
      "|#COVID19|           74|\n",
      "+--------+-------------+\n",
      "only showing top 2 rows\n",
      "\n",
      "MENTION----------- 2021-07-29 23:10:02 -----------\n",
      "SENTIMENT----------- 2021-07-29 23:10:02 -----------\n",
      "+--------------------------------------------------------------------------------------------------------------------+----+\n",
      "|tweet                                                                                                               |comp|\n",
      "+--------------------------------------------------------------------------------------------------------------------+----+\n",
      "|- New cases 96085                                                                                                   |0   |\n",
      "|With half the country vaccinated overall rates of death and serious illness from COVID have plummeted Progressives a|0   |\n",
      "+--------------------------------------------------------------------------------------------------------------------+----+\n",
      "only showing top 2 rows\n",
      "\n"
     ]
    },
    {
     "name": "stderr",
     "output_type": "stream",
     "text": [
      "                                                                                \r"
     ]
    },
    {
     "name": "stdout",
     "output_type": "stream",
     "text": [
      "HASHTAG----------- 2021-07-29 23:10:04 -----------\n",
      "+--------+-------------+\n",
      "| hashtag|hashtag_count|\n",
      "+--------+-------------+\n",
      "|  #COVID|          315|\n",
      "|#COVID19|           76|\n",
      "+--------+-------------+\n",
      "only showing top 2 rows\n",
      "\n",
      "MENTION----------- 2021-07-29 23:10:04 -----------\n",
      "SENTIMENT----------- 2021-07-29 23:10:04 -----------\n",
      "+--------------------------------------------------------------------------------------------------------+----+\n",
      "|tweet                                                                                                   |comp|\n",
      "+--------------------------------------------------------------------------------------------------------+----+\n",
      "|More people have been murdered in the last four days in DC than have died of Covid in the last two weeks|0   |\n",
      "|Are you against all vaccines or just the covid one                                                      |0   |\n",
      "+--------------------------------------------------------------------------------------------------------+----+\n",
      "only showing top 2 rows\n",
      "\n"
     ]
    },
    {
     "name": "stderr",
     "output_type": "stream",
     "text": [
      "                                                                                \r"
     ]
    },
    {
     "name": "stdout",
     "output_type": "stream",
     "text": [
      "HASHTAG----------- 2021-07-29 23:10:06 -----------\n",
      "+--------+-------------+\n",
      "| hashtag|hashtag_count|\n",
      "+--------+-------------+\n",
      "|  #COVID|          315|\n",
      "|#COVID19|           76|\n",
      "+--------+-------------+\n",
      "only showing top 2 rows\n",
      "\n",
      "MENTION----------- 2021-07-29 23:10:06 -----------\n",
      "SENTIMENT----------- 2021-07-29 23:10:06 -----------\n",
      "+--------------------------------------------------------------------------------------------------------------------+----+\n",
      "|tweet                                                                                                               |comp|\n",
      "+--------------------------------------------------------------------------------------------------------------------+----+\n",
      "|The founder of Shake Shack says his company will require proof of Covid vaccination for both employees AND customers|0   |\n",
      "|Figure that COVID isnt trying to destroy a political party it is trying to destroy an entire                        |0   |\n",
      "+--------------------------------------------------------------------------------------------------------------------+----+\n",
      "only showing top 2 rows\n",
      "\n",
      "HASHTAG----------- 2021-07-29 23:10:08 -----------\n",
      "+--------+-------------+\n",
      "| hashtag|hashtag_count|\n",
      "+--------+-------------+\n",
      "|  #COVID|          315|\n",
      "|#COVID19|           76|\n",
      "+--------+-------------+\n",
      "only showing top 2 rows\n",
      "\n",
      "MENTION----------- 2021-07-29 23:10:08 -----------\n",
      "SENTIMENT----------- 2021-07-29 23:10:08 -----------\n",
      "+--------------------------------------------------------------------------------------------------------------------+----+\n",
      "|tweet                                                                                                               |comp|\n",
      "+--------------------------------------------------------------------------------------------------------------------+----+\n",
      "|The founder of Shake Shack says his company will require proof of Covid vaccination for both employees AND customers|0   |\n",
      "|Figure that COVID isnt trying to destroy a political party it is trying to destroy an entire                        |0   |\n",
      "+--------------------------------------------------------------------------------------------------------------------+----+\n",
      "only showing top 2 rows\n",
      "\n"
     ]
    },
    {
     "name": "stderr",
     "output_type": "stream",
     "text": [
      "                                                                                \r"
     ]
    },
    {
     "name": "stdout",
     "output_type": "stream",
     "text": [
      "HASHTAG----------- 2021-07-29 23:10:10 -----------\n",
      "+--------+-------------+\n",
      "| hashtag|hashtag_count|\n",
      "+--------+-------------+\n",
      "|  #COVID|          315|\n",
      "|#COVID19|           76|\n",
      "+--------+-------------+\n",
      "only showing top 2 rows\n",
      "\n",
      "MENTION----------- 2021-07-29 23:10:10 -----------\n",
      "SENTIMENT----------- 2021-07-29 23:10:10 -----------\n",
      "+--------------------------------------------------------------------------------------------------------------------+----+\n",
      "|tweet                                                                                                               |comp|\n",
      "+--------------------------------------------------------------------------------------------------------------------+----+\n",
      "|The founder of Shake Shack says his company will require proof of Covid vaccination for both employees AND customers|0   |\n",
      "|Figure that COVID isnt trying to destroy a political party it is trying to destroy an entire                        |0   |\n",
      "+--------------------------------------------------------------------------------------------------------------------+----+\n",
      "only showing top 2 rows\n",
      "\n"
     ]
    },
    {
     "name": "stderr",
     "output_type": "stream",
     "text": [
      "                                                                                \r"
     ]
    },
    {
     "name": "stdout",
     "output_type": "stream",
     "text": [
      "HASHTAG----------- 2021-07-29 23:10:12 -----------\n",
      "+--------+-------------+\n",
      "| hashtag|hashtag_count|\n",
      "+--------+-------------+\n",
      "|  #COVID|          315|\n",
      "|#COVID19|           76|\n",
      "+--------+-------------+\n",
      "only showing top 2 rows\n",
      "\n",
      "MENTION----------- 2021-07-29 23:10:12 -----------\n",
      "SENTIMENT----------- 2021-07-29 23:10:12 -----------\n",
      "+--------------------------------------------------------------------------------------------------------------------+----+\n",
      "|tweet                                                                                                               |comp|\n",
      "+--------------------------------------------------------------------------------------------------------------------+----+\n",
      "|The founder of Shake Shack says his company will require proof of Covid vaccination for both employees AND customers|0   |\n",
      "|Figure that COVID isnt trying to destroy a political party it is trying to destroy an entire                        |0   |\n",
      "+--------------------------------------------------------------------------------------------------------------------+----+\n",
      "only showing top 2 rows\n",
      "\n"
     ]
    },
    {
     "name": "stderr",
     "output_type": "stream",
     "text": [
      "                                                                                \r"
     ]
    },
    {
     "name": "stdout",
     "output_type": "stream",
     "text": [
      "HASHTAG----------- 2021-07-29 23:10:14 -----------\n",
      "+--------+-------------+\n",
      "| hashtag|hashtag_count|\n",
      "+--------+-------------+\n",
      "|  #COVID|          315|\n",
      "|#COVID19|           76|\n",
      "+--------+-------------+\n",
      "only showing top 2 rows\n",
      "\n",
      "MENTION----------- 2021-07-29 23:10:14 -----------\n",
      "SENTIMENT----------- 2021-07-29 23:10:14 -----------\n",
      "+--------------------------------------------------------------------------------------------------------------------+----+\n",
      "|tweet                                                                                                               |comp|\n",
      "+--------------------------------------------------------------------------------------------------------------------+----+\n",
      "|The founder of Shake Shack says his company will require proof of Covid vaccination for both employees AND customers|0   |\n",
      "|Figure that COVID isnt trying to destroy a political party it is trying to destroy an entire                        |0   |\n",
      "+--------------------------------------------------------------------------------------------------------------------+----+\n",
      "only showing top 2 rows\n",
      "\n"
     ]
    },
    {
     "name": "stderr",
     "output_type": "stream",
     "text": [
      "                                                                                \r"
     ]
    },
    {
     "name": "stdout",
     "output_type": "stream",
     "text": [
      "HASHTAG----------- 2021-07-29 23:10:16 -----------\n",
      "+--------+-------------+\n",
      "| hashtag|hashtag_count|\n",
      "+--------+-------------+\n",
      "|  #COVID|          315|\n",
      "|#COVID19|           76|\n",
      "+--------+-------------+\n",
      "only showing top 2 rows\n",
      "\n",
      "MENTION----------- 2021-07-29 23:10:16 -----------\n",
      "SENTIMENT----------- 2021-07-29 23:10:16 -----------\n",
      "+--------------------------------------------------------------------------------------------------------------------+----+\n",
      "|tweet                                                                                                               |comp|\n",
      "+--------------------------------------------------------------------------------------------------------------------+----+\n",
      "|The founder of Shake Shack says his company will require proof of Covid vaccination for both employees AND customers|0   |\n",
      "|Figure that COVID isnt trying to destroy a political party it is trying to destroy an entire                        |0   |\n",
      "+--------------------------------------------------------------------------------------------------------------------+----+\n",
      "only showing top 2 rows\n",
      "\n"
     ]
    },
    {
     "name": "stderr",
     "output_type": "stream",
     "text": [
      "                                                                                \r"
     ]
    },
    {
     "name": "stdout",
     "output_type": "stream",
     "text": [
      "HASHTAG----------- 2021-07-29 23:10:18 -----------\n",
      "+--------+-------------+\n",
      "| hashtag|hashtag_count|\n",
      "+--------+-------------+\n",
      "|  #COVID|          315|\n",
      "|#COVID19|           76|\n",
      "+--------+-------------+\n",
      "only showing top 2 rows\n",
      "\n",
      "MENTION----------- 2021-07-29 23:10:18 -----------\n",
      "SENTIMENT----------- 2021-07-29 23:10:18 -----------\n",
      "+--------------------------------------------------------------------------------------------------------------------+----+\n",
      "|tweet                                                                                                               |comp|\n",
      "+--------------------------------------------------------------------------------------------------------------------+----+\n",
      "|The founder of Shake Shack says his company will require proof of Covid vaccination for both employees AND customers|0   |\n",
      "|Figure that COVID isnt trying to destroy a political party it is trying to destroy an entire                        |0   |\n",
      "+--------------------------------------------------------------------------------------------------------------------+----+\n",
      "only showing top 2 rows\n",
      "\n"
     ]
    },
    {
     "name": "stderr",
     "output_type": "stream",
     "text": [
      "                                                                                \r"
     ]
    },
    {
     "name": "stdout",
     "output_type": "stream",
     "text": [
      "HASHTAG----------- 2021-07-29 23:10:20 -----------\n",
      "+--------+-------------+\n",
      "| hashtag|hashtag_count|\n",
      "+--------+-------------+\n",
      "|  #COVID|          315|\n",
      "|#COVID19|           76|\n",
      "+--------+-------------+\n",
      "only showing top 2 rows\n",
      "\n",
      "MENTION----------- 2021-07-29 23:10:20 -----------\n",
      "SENTIMENT----------- 2021-07-29 23:10:20 -----------\n",
      "+--------------------------------------------------------------------------------------------------------------------+----+\n",
      "|tweet                                                                                                               |comp|\n",
      "+--------------------------------------------------------------------------------------------------------------------+----+\n",
      "|The founder of Shake Shack says his company will require proof of Covid vaccination for both employees AND customers|0   |\n",
      "|Figure that COVID isnt trying to destroy a political party it is trying to destroy an entire                        |0   |\n",
      "+--------------------------------------------------------------------------------------------------------------------+----+\n",
      "only showing top 2 rows\n",
      "\n"
     ]
    },
    {
     "name": "stderr",
     "output_type": "stream",
     "text": [
      "                                                                                \r"
     ]
    },
    {
     "name": "stdout",
     "output_type": "stream",
     "text": [
      "HASHTAG----------- 2021-07-29 23:10:22 -----------\n",
      "+--------+-------------+\n",
      "| hashtag|hashtag_count|\n",
      "+--------+-------------+\n",
      "|  #COVID|          315|\n",
      "|#COVID19|           76|\n",
      "+--------+-------------+\n",
      "only showing top 2 rows\n",
      "\n",
      "MENTION----------- 2021-07-29 23:10:22 -----------\n",
      "SENTIMENT----------- 2021-07-29 23:10:22 -----------\n",
      "+--------------------------------------------------------------------------------------------------------------------+----+\n",
      "|tweet                                                                                                               |comp|\n",
      "+--------------------------------------------------------------------------------------------------------------------+----+\n",
      "|The founder of Shake Shack says his company will require proof of Covid vaccination for both employees AND customers|0   |\n",
      "|Figure that COVID isnt trying to destroy a political party it is trying to destroy an entire                        |0   |\n",
      "+--------------------------------------------------------------------------------------------------------------------+----+\n",
      "only showing top 2 rows\n",
      "\n"
     ]
    },
    {
     "name": "stderr",
     "output_type": "stream",
     "text": [
      "                                                                                \r"
     ]
    },
    {
     "name": "stdout",
     "output_type": "stream",
     "text": [
      "HASHTAG----------- 2021-07-29 23:10:24 -----------\n",
      "+--------+-------------+\n",
      "| hashtag|hashtag_count|\n",
      "+--------+-------------+\n",
      "|  #COVID|          315|\n",
      "|#COVID19|           76|\n",
      "+--------+-------------+\n",
      "only showing top 2 rows\n",
      "\n",
      "MENTION----------- 2021-07-29 23:10:24 -----------\n",
      "SENTIMENT----------- 2021-07-29 23:10:24 -----------\n",
      "+--------------------------------------------------------------------------------------------------------------------+----+\n",
      "|tweet                                                                                                               |comp|\n",
      "+--------------------------------------------------------------------------------------------------------------------+----+\n",
      "|The founder of Shake Shack says his company will require proof of Covid vaccination for both employees AND customers|0   |\n",
      "|Figure that COVID isnt trying to destroy a political party it is trying to destroy an entire                        |0   |\n",
      "+--------------------------------------------------------------------------------------------------------------------+----+\n",
      "only showing top 2 rows\n",
      "\n"
     ]
    },
    {
     "name": "stderr",
     "output_type": "stream",
     "text": [
      "                                                                                \r"
     ]
    },
    {
     "name": "stdout",
     "output_type": "stream",
     "text": [
      "HASHTAG----------- 2021-07-29 23:10:26 -----------\n",
      "+--------+-------------+\n",
      "| hashtag|hashtag_count|\n",
      "+--------+-------------+\n",
      "|  #COVID|          315|\n",
      "|#COVID19|           76|\n",
      "+--------+-------------+\n",
      "only showing top 2 rows\n",
      "\n",
      "MENTION----------- 2021-07-29 23:10:26 -----------\n",
      "SENTIMENT----------- 2021-07-29 23:10:26 -----------\n",
      "+--------------------------------------------------------------------------------------------------------------------+----+\n",
      "|tweet                                                                                                               |comp|\n",
      "+--------------------------------------------------------------------------------------------------------------------+----+\n",
      "|The founder of Shake Shack says his company will require proof of Covid vaccination for both employees AND customers|0   |\n",
      "|Figure that COVID isnt trying to destroy a political party it is trying to destroy an entire                        |0   |\n",
      "+--------------------------------------------------------------------------------------------------------------------+----+\n",
      "only showing top 2 rows\n",
      "\n"
     ]
    },
    {
     "name": "stderr",
     "output_type": "stream",
     "text": [
      "                                                                                \r"
     ]
    },
    {
     "name": "stdout",
     "output_type": "stream",
     "text": [
      "HASHTAG----------- 2021-07-29 23:10:28 -----------\n",
      "+--------+-------------+\n",
      "| hashtag|hashtag_count|\n",
      "+--------+-------------+\n",
      "|  #COVID|          315|\n",
      "|#COVID19|           76|\n",
      "+--------+-------------+\n",
      "only showing top 2 rows\n",
      "\n",
      "MENTION----------- 2021-07-29 23:10:28 -----------\n",
      "SENTIMENT----------- 2021-07-29 23:10:28 -----------\n",
      "+--------------------------------------------------------------------------------------------------------------------+----+\n",
      "|tweet                                                                                                               |comp|\n",
      "+--------------------------------------------------------------------------------------------------------------------+----+\n",
      "|The founder of Shake Shack says his company will require proof of Covid vaccination for both employees AND customers|0   |\n",
      "|Figure that COVID isnt trying to destroy a political party it is trying to destroy an entire                        |0   |\n",
      "+--------------------------------------------------------------------------------------------------------------------+----+\n",
      "only showing top 2 rows\n",
      "\n"
     ]
    },
    {
     "name": "stderr",
     "output_type": "stream",
     "text": [
      "                                                                                \r"
     ]
    },
    {
     "name": "stdout",
     "output_type": "stream",
     "text": [
      "HASHTAG----------- 2021-07-29 23:10:30 -----------\n",
      "+--------+-------------+\n",
      "| hashtag|hashtag_count|\n",
      "+--------+-------------+\n",
      "|  #COVID|          315|\n",
      "|#COVID19|           76|\n",
      "+--------+-------------+\n",
      "only showing top 2 rows\n",
      "\n",
      "MENTION----------- 2021-07-29 23:10:30 -----------\n",
      "SENTIMENT----------- 2021-07-29 23:10:30 -----------\n",
      "+--------------------------------------------------------------------------------------------------------------------+----+\n",
      "|tweet                                                                                                               |comp|\n",
      "+--------------------------------------------------------------------------------------------------------------------+----+\n",
      "|The founder of Shake Shack says his company will require proof of Covid vaccination for both employees AND customers|0   |\n",
      "|Figure that COVID isnt trying to destroy a political party it is trying to destroy an entire                        |0   |\n",
      "+--------------------------------------------------------------------------------------------------------------------+----+\n",
      "only showing top 2 rows\n",
      "\n"
     ]
    },
    {
     "name": "stderr",
     "output_type": "stream",
     "text": [
      "                                                                                \r"
     ]
    },
    {
     "name": "stdout",
     "output_type": "stream",
     "text": [
      "HASHTAG----------- 2021-07-29 23:10:32 -----------\n",
      "+--------+-------------+\n",
      "| hashtag|hashtag_count|\n",
      "+--------+-------------+\n",
      "|  #COVID|          315|\n",
      "|#COVID19|           76|\n",
      "+--------+-------------+\n",
      "only showing top 2 rows\n",
      "\n",
      "MENTION----------- 2021-07-29 23:10:32 -----------\n",
      "SENTIMENT----------- 2021-07-29 23:10:32 -----------\n",
      "+--------------------------------------------------------------------------------------------------------------------+----+\n",
      "|tweet                                                                                                               |comp|\n",
      "+--------------------------------------------------------------------------------------------------------------------+----+\n",
      "|The founder of Shake Shack says his company will require proof of Covid vaccination for both employees AND customers|0   |\n",
      "|Figure that COVID isnt trying to destroy a political party it is trying to destroy an entire                        |0   |\n",
      "+--------------------------------------------------------------------------------------------------------------------+----+\n",
      "only showing top 2 rows\n",
      "\n"
     ]
    },
    {
     "name": "stderr",
     "output_type": "stream",
     "text": [
      "                                                                                \r"
     ]
    },
    {
     "name": "stdout",
     "output_type": "stream",
     "text": [
      "HASHTAG----------- 2021-07-29 23:10:34 -----------\n",
      "+--------+-------------+\n",
      "| hashtag|hashtag_count|\n",
      "+--------+-------------+\n",
      "|  #COVID|          315|\n",
      "|#COVID19|           76|\n",
      "+--------+-------------+\n",
      "only showing top 2 rows\n",
      "\n",
      "MENTION----------- 2021-07-29 23:10:34 -----------\n",
      "SENTIMENT----------- 2021-07-29 23:10:34 -----------\n",
      "+--------------------------------------------------------------------------------------------------------------------+----+\n",
      "|tweet                                                                                                               |comp|\n",
      "+--------------------------------------------------------------------------------------------------------------------+----+\n",
      "|The founder of Shake Shack says his company will require proof of Covid vaccination for both employees AND customers|0   |\n",
      "|Figure that COVID isnt trying to destroy a political party it is trying to destroy an entire                        |0   |\n",
      "+--------------------------------------------------------------------------------------------------------------------+----+\n",
      "only showing top 2 rows\n",
      "\n"
     ]
    },
    {
     "name": "stderr",
     "output_type": "stream",
     "text": [
      "                                                                                \r"
     ]
    },
    {
     "name": "stdout",
     "output_type": "stream",
     "text": [
      "HASHTAG----------- 2021-07-29 23:10:36 -----------\n",
      "+--------+-------------+\n",
      "| hashtag|hashtag_count|\n",
      "+--------+-------------+\n",
      "|  #COVID|          315|\n",
      "|#COVID19|           76|\n",
      "+--------+-------------+\n",
      "only showing top 2 rows\n",
      "\n",
      "MENTION----------- 2021-07-29 23:10:36 -----------\n",
      "SENTIMENT----------- 2021-07-29 23:10:36 -----------\n",
      "+--------------------------------------------------------------------------------------------------------------------+----+\n",
      "|tweet                                                                                                               |comp|\n",
      "+--------------------------------------------------------------------------------------------------------------------+----+\n",
      "|The founder of Shake Shack says his company will require proof of Covid vaccination for both employees AND customers|0   |\n",
      "|Figure that COVID isnt trying to destroy a political party it is trying to destroy an entire                        |0   |\n",
      "+--------------------------------------------------------------------------------------------------------------------+----+\n",
      "only showing top 2 rows\n",
      "\n"
     ]
    },
    {
     "name": "stderr",
     "output_type": "stream",
     "text": [
      "                                                                                \r"
     ]
    },
    {
     "name": "stdout",
     "output_type": "stream",
     "text": [
      "HASHTAG----------- 2021-07-29 23:10:38 -----------\n",
      "+--------+-------------+\n",
      "| hashtag|hashtag_count|\n",
      "+--------+-------------+\n",
      "|  #COVID|          315|\n",
      "|#COVID19|           76|\n",
      "+--------+-------------+\n",
      "only showing top 2 rows\n",
      "\n",
      "MENTION----------- 2021-07-29 23:10:38 -----------\n",
      "SENTIMENT----------- 2021-07-29 23:10:38 -----------\n",
      "+--------------------------------------------------------------------------------------------------------------------+----+\n",
      "|tweet                                                                                                               |comp|\n",
      "+--------------------------------------------------------------------------------------------------------------------+----+\n",
      "|The founder of Shake Shack says his company will require proof of Covid vaccination for both employees AND customers|0   |\n",
      "|Figure that COVID isnt trying to destroy a political party it is trying to destroy an entire                        |0   |\n",
      "+--------------------------------------------------------------------------------------------------------------------+----+\n",
      "only showing top 2 rows\n",
      "\n"
     ]
    },
    {
     "name": "stderr",
     "output_type": "stream",
     "text": [
      "                                                                                \r"
     ]
    },
    {
     "name": "stdout",
     "output_type": "stream",
     "text": [
      "HASHTAG----------- 2021-07-29 23:10:40 -----------\n",
      "+--------+-------------+\n",
      "| hashtag|hashtag_count|\n",
      "+--------+-------------+\n",
      "|  #COVID|          315|\n",
      "|#COVID19|           76|\n",
      "+--------+-------------+\n",
      "only showing top 2 rows\n",
      "\n",
      "MENTION----------- 2021-07-29 23:10:40 -----------\n",
      "SENTIMENT----------- 2021-07-29 23:10:40 -----------\n",
      "+--------------------------------------------------------------------------------------------------------------------+----+\n",
      "|tweet                                                                                                               |comp|\n",
      "+--------------------------------------------------------------------------------------------------------------------+----+\n",
      "|The founder of Shake Shack says his company will require proof of Covid vaccination for both employees AND customers|0   |\n",
      "|Figure that COVID isnt trying to destroy a political party it is trying to destroy an entire                        |0   |\n",
      "+--------------------------------------------------------------------------------------------------------------------+----+\n",
      "only showing top 2 rows\n",
      "\n"
     ]
    },
    {
     "name": "stderr",
     "output_type": "stream",
     "text": [
      "                                                                                \r"
     ]
    },
    {
     "name": "stdout",
     "output_type": "stream",
     "text": [
      "HASHTAG----------- 2021-07-29 23:10:42 -----------\n",
      "+--------+-------------+\n",
      "| hashtag|hashtag_count|\n",
      "+--------+-------------+\n",
      "|  #COVID|          315|\n",
      "|#COVID19|           76|\n",
      "+--------+-------------+\n",
      "only showing top 2 rows\n",
      "\n",
      "MENTION----------- 2021-07-29 23:10:42 -----------\n",
      "SENTIMENT----------- 2021-07-29 23:10:42 -----------\n",
      "+--------------------------------------------------------------------------------------------------------------------+----+\n",
      "|tweet                                                                                                               |comp|\n",
      "+--------------------------------------------------------------------------------------------------------------------+----+\n",
      "|The founder of Shake Shack says his company will require proof of Covid vaccination for both employees AND customers|0   |\n",
      "|Figure that COVID isnt trying to destroy a political party it is trying to destroy an entire                        |0   |\n",
      "+--------------------------------------------------------------------------------------------------------------------+----+\n",
      "only showing top 2 rows\n",
      "\n"
     ]
    },
    {
     "name": "stderr",
     "output_type": "stream",
     "text": [
      "                                                                                \r"
     ]
    },
    {
     "name": "stdout",
     "output_type": "stream",
     "text": [
      "HASHTAG----------- 2021-07-29 23:10:44 -----------\n",
      "+--------+-------------+\n",
      "| hashtag|hashtag_count|\n",
      "+--------+-------------+\n",
      "|  #COVID|          315|\n",
      "|#COVID19|           76|\n",
      "+--------+-------------+\n",
      "only showing top 2 rows\n",
      "\n",
      "MENTION----------- 2021-07-29 23:10:44 -----------\n",
      "SENTIMENT----------- 2021-07-29 23:10:44 -----------\n",
      "+--------------------------------------------------------------------------------------------------------------------+----+\n",
      "|tweet                                                                                                               |comp|\n",
      "+--------------------------------------------------------------------------------------------------------------------+----+\n",
      "|The founder of Shake Shack says his company will require proof of Covid vaccination for both employees AND customers|0   |\n",
      "|Figure that COVID isnt trying to destroy a political party it is trying to destroy an entire                        |0   |\n",
      "+--------------------------------------------------------------------------------------------------------------------+----+\n",
      "only showing top 2 rows\n",
      "\n"
     ]
    },
    {
     "name": "stderr",
     "output_type": "stream",
     "text": [
      "                                                                                \r"
     ]
    },
    {
     "name": "stdout",
     "output_type": "stream",
     "text": [
      "HASHTAG----------- 2021-07-29 23:10:46 -----------\n",
      "+--------+-------------+\n",
      "| hashtag|hashtag_count|\n",
      "+--------+-------------+\n",
      "|  #COVID|          315|\n",
      "|#COVID19|           76|\n",
      "+--------+-------------+\n",
      "only showing top 2 rows\n",
      "\n",
      "MENTION----------- 2021-07-29 23:10:46 -----------\n",
      "SENTIMENT----------- 2021-07-29 23:10:46 -----------\n",
      "+--------------------------------------------------------------------------------------------------------------------+----+\n",
      "|tweet                                                                                                               |comp|\n",
      "+--------------------------------------------------------------------------------------------------------------------+----+\n",
      "|The founder of Shake Shack says his company will require proof of Covid vaccination for both employees AND customers|0   |\n",
      "|Figure that COVID isnt trying to destroy a political party it is trying to destroy an entire                        |0   |\n",
      "+--------------------------------------------------------------------------------------------------------------------+----+\n",
      "only showing top 2 rows\n",
      "\n"
     ]
    },
    {
     "name": "stderr",
     "output_type": "stream",
     "text": [
      "                                                                                \r"
     ]
    },
    {
     "name": "stdout",
     "output_type": "stream",
     "text": [
      "HASHTAG----------- 2021-07-29 23:10:48 -----------\n",
      "+--------+-------------+\n",
      "| hashtag|hashtag_count|\n",
      "+--------+-------------+\n",
      "|  #COVID|          315|\n",
      "|#COVID19|           76|\n",
      "+--------+-------------+\n",
      "only showing top 2 rows\n",
      "\n",
      "MENTION----------- 2021-07-29 23:10:48 -----------\n",
      "SENTIMENT----------- 2021-07-29 23:10:48 -----------\n",
      "+--------------------------------------------------------------------------------------------------------------------+----+\n",
      "|tweet                                                                                                               |comp|\n",
      "+--------------------------------------------------------------------------------------------------------------------+----+\n",
      "|The founder of Shake Shack says his company will require proof of Covid vaccination for both employees AND customers|0   |\n",
      "|Figure that COVID isnt trying to destroy a political party it is trying to destroy an entire                        |0   |\n",
      "+--------------------------------------------------------------------------------------------------------------------+----+\n",
      "only showing top 2 rows\n",
      "\n"
     ]
    },
    {
     "name": "stderr",
     "output_type": "stream",
     "text": [
      "                                                                                \r"
     ]
    },
    {
     "name": "stdout",
     "output_type": "stream",
     "text": [
      "HASHTAG----------- 2021-07-29 23:10:50 -----------\n",
      "+--------+-------------+\n",
      "| hashtag|hashtag_count|\n",
      "+--------+-------------+\n",
      "|  #COVID|          315|\n",
      "|#COVID19|           76|\n",
      "+--------+-------------+\n",
      "only showing top 2 rows\n",
      "\n",
      "MENTION----------- 2021-07-29 23:10:50 -----------\n",
      "SENTIMENT----------- 2021-07-29 23:10:50 -----------\n",
      "+--------------------------------------------------------------------------------------------------------------------+----+\n",
      "|tweet                                                                                                               |comp|\n",
      "+--------------------------------------------------------------------------------------------------------------------+----+\n",
      "|The founder of Shake Shack says his company will require proof of Covid vaccination for both employees AND customers|0   |\n",
      "|Figure that COVID isnt trying to destroy a political party it is trying to destroy an entire                        |0   |\n",
      "+--------------------------------------------------------------------------------------------------------------------+----+\n",
      "only showing top 2 rows\n",
      "\n"
     ]
    },
    {
     "name": "stderr",
     "output_type": "stream",
     "text": [
      "                                                                                \r"
     ]
    },
    {
     "name": "stdout",
     "output_type": "stream",
     "text": [
      "HASHTAG----------- 2021-07-29 23:10:52 -----------\n",
      "+--------+-------------+\n",
      "| hashtag|hashtag_count|\n",
      "+--------+-------------+\n",
      "|  #COVID|          315|\n",
      "|#COVID19|           76|\n",
      "+--------+-------------+\n",
      "only showing top 2 rows\n",
      "\n",
      "MENTION----------- 2021-07-29 23:10:52 -----------\n",
      "SENTIMENT----------- 2021-07-29 23:10:52 -----------\n",
      "+--------------------------------------------------------------------------------------------------------------------+----+\n",
      "|tweet                                                                                                               |comp|\n",
      "+--------------------------------------------------------------------------------------------------------------------+----+\n",
      "|The founder of Shake Shack says his company will require proof of Covid vaccination for both employees AND customers|0   |\n",
      "|Figure that COVID isnt trying to destroy a political party it is trying to destroy an entire                        |0   |\n",
      "+--------------------------------------------------------------------------------------------------------------------+----+\n",
      "only showing top 2 rows\n",
      "\n"
     ]
    },
    {
     "name": "stderr",
     "output_type": "stream",
     "text": [
      "                                                                                \r"
     ]
    },
    {
     "name": "stdout",
     "output_type": "stream",
     "text": [
      "HASHTAG----------- 2021-07-29 23:10:54 -----------\n",
      "+--------+-------------+\n",
      "| hashtag|hashtag_count|\n",
      "+--------+-------------+\n",
      "|  #COVID|          315|\n",
      "|#COVID19|           76|\n",
      "+--------+-------------+\n",
      "only showing top 2 rows\n",
      "\n",
      "MENTION----------- 2021-07-29 23:10:54 -----------\n",
      "SENTIMENT----------- 2021-07-29 23:10:54 -----------\n",
      "+--------------------------------------------------------------------------------------------------------------------+----+\n",
      "|tweet                                                                                                               |comp|\n",
      "+--------------------------------------------------------------------------------------------------------------------+----+\n",
      "|The founder of Shake Shack says his company will require proof of Covid vaccination for both employees AND customers|0   |\n",
      "|Figure that COVID isnt trying to destroy a political party it is trying to destroy an entire                        |0   |\n",
      "+--------------------------------------------------------------------------------------------------------------------+----+\n",
      "only showing top 2 rows\n",
      "\n"
     ]
    },
    {
     "name": "stderr",
     "output_type": "stream",
     "text": [
      "                                                                                \r"
     ]
    },
    {
     "name": "stdout",
     "output_type": "stream",
     "text": [
      "HASHTAG----------- 2021-07-29 23:10:56 -----------\n",
      "+--------+-------------+\n",
      "| hashtag|hashtag_count|\n",
      "+--------+-------------+\n",
      "|  #COVID|          315|\n",
      "|#COVID19|           76|\n",
      "+--------+-------------+\n",
      "only showing top 2 rows\n",
      "\n",
      "MENTION----------- 2021-07-29 23:10:56 -----------\n",
      "SENTIMENT----------- 2021-07-29 23:10:56 -----------\n",
      "+--------------------------------------------------------------------------------------------------------------------+----+\n",
      "|tweet                                                                                                               |comp|\n",
      "+--------------------------------------------------------------------------------------------------------------------+----+\n",
      "|The founder of Shake Shack says his company will require proof of Covid vaccination for both employees AND customers|0   |\n",
      "|Figure that COVID isnt trying to destroy a political party it is trying to destroy an entire                        |0   |\n",
      "+--------------------------------------------------------------------------------------------------------------------+----+\n",
      "only showing top 2 rows\n",
      "\n"
     ]
    },
    {
     "name": "stderr",
     "output_type": "stream",
     "text": [
      "                                                                                \r"
     ]
    },
    {
     "name": "stdout",
     "output_type": "stream",
     "text": [
      "HASHTAG----------- 2021-07-29 23:10:58 -----------\n",
      "+--------+-------------+\n",
      "| hashtag|hashtag_count|\n",
      "+--------+-------------+\n",
      "|  #COVID|          315|\n",
      "|#COVID19|           76|\n",
      "+--------+-------------+\n",
      "only showing top 2 rows\n",
      "\n",
      "MENTION----------- 2021-07-29 23:10:58 -----------\n",
      "SENTIMENT----------- 2021-07-29 23:10:58 -----------\n",
      "+--------------------------------------------------------------------------------------------------------------------+----+\n",
      "|tweet                                                                                                               |comp|\n",
      "+--------------------------------------------------------------------------------------------------------------------+----+\n",
      "|The founder of Shake Shack says his company will require proof of Covid vaccination for both employees AND customers|0   |\n",
      "|Figure that COVID isnt trying to destroy a political party it is trying to destroy an entire                        |0   |\n",
      "+--------------------------------------------------------------------------------------------------------------------+----+\n",
      "only showing top 2 rows\n",
      "\n"
     ]
    },
    {
     "name": "stderr",
     "output_type": "stream",
     "text": [
      "                                                                                \r"
     ]
    },
    {
     "name": "stdout",
     "output_type": "stream",
     "text": [
      "Error: <class 'requests.exceptions.ConnectionError'>\n",
      "HASHTAG----------- 2021-07-29 23:11:00 -----------\n",
      "+--------+-------------+\n",
      "| hashtag|hashtag_count|\n",
      "+--------+-------------+\n",
      "|  #COVID|          315|\n",
      "|#COVID19|           76|\n",
      "+--------+-------------+\n",
      "only showing top 2 rows\n",
      "\n",
      "Error: <class 'requests.exceptions.ConnectionError'>\n",
      "MENTION----------- 2021-07-29 23:11:00 -----------\n",
      "Error: <class 'requests.exceptions.ConnectionError'>\n",
      "SENTIMENT----------- 2021-07-29 23:11:00 -----------\n",
      "+--------------------------------------------------------------------------------------------------------------------+----+\n",
      "|tweet                                                                                                               |comp|\n",
      "+--------------------------------------------------------------------------------------------------------------------+----+\n",
      "|The founder of Shake Shack says his company will require proof of Covid vaccination for both employees AND customers|0   |\n",
      "|Figure that COVID isnt trying to destroy a political party it is trying to destroy an entire                        |0   |\n",
      "+--------------------------------------------------------------------------------------------------------------------+----+\n",
      "only showing top 2 rows\n",
      "\n"
     ]
    },
    {
     "name": "stderr",
     "output_type": "stream",
     "text": [
      "                                                                                \r"
     ]
    },
    {
     "name": "stdout",
     "output_type": "stream",
     "text": [
      "Error: <class 'requests.exceptions.ConnectionError'>\n",
      "HASHTAG----------- 2021-07-29 23:11:02 -----------\n",
      "+--------+-------------+\n",
      "| hashtag|hashtag_count|\n",
      "+--------+-------------+\n",
      "|  #COVID|          315|\n",
      "|#COVID19|           76|\n",
      "+--------+-------------+\n",
      "only showing top 2 rows\n",
      "\n",
      "Error: <class 'requests.exceptions.ConnectionError'>\n",
      "MENTION----------- 2021-07-29 23:11:02 -----------\n",
      "Error: <class 'requests.exceptions.ConnectionError'>\n",
      "SENTIMENT----------- 2021-07-29 23:11:02 -----------\n",
      "+--------------------------------------------------------------------------------------------------------------------+----+\n",
      "|tweet                                                                                                               |comp|\n",
      "+--------------------------------------------------------------------------------------------------------------------+----+\n",
      "|The founder of Shake Shack says his company will require proof of Covid vaccination for both employees AND customers|0   |\n",
      "|Figure that COVID isnt trying to destroy a political party it is trying to destroy an entire                        |0   |\n",
      "+--------------------------------------------------------------------------------------------------------------------+----+\n",
      "only showing top 2 rows\n",
      "\n"
     ]
    },
    {
     "name": "stderr",
     "output_type": "stream",
     "text": [
      "                                                                                \r"
     ]
    },
    {
     "name": "stdout",
     "output_type": "stream",
     "text": [
      "Error: <class 'requests.exceptions.ConnectionError'>\n",
      "HASHTAG----------- 2021-07-29 23:11:04 -----------\n"
     ]
    },
    {
     "name": "stderr",
     "output_type": "stream",
     "text": [
      "                                                                                \r"
     ]
    },
    {
     "name": "stdout",
     "output_type": "stream",
     "text": [
      "+--------+-------------+\n",
      "| hashtag|hashtag_count|\n",
      "+--------+-------------+\n",
      "|  #COVID|          315|\n",
      "|#COVID19|           76|\n",
      "+--------+-------------+\n",
      "only showing top 2 rows\n",
      "\n",
      "Error: <class 'requests.exceptions.ConnectionError'>\n",
      "MENTION----------- 2021-07-29 23:11:04 -----------\n"
     ]
    },
    {
     "name": "stderr",
     "output_type": "stream",
     "text": [
      "                                                                                \r"
     ]
    },
    {
     "name": "stdout",
     "output_type": "stream",
     "text": [
      "Error: <class 'requests.exceptions.ConnectionError'>\n",
      "SENTIMENT----------- 2021-07-29 23:11:04 -----------\n"
     ]
    },
    {
     "name": "stderr",
     "output_type": "stream",
     "text": [
      "                                                                                \r"
     ]
    },
    {
     "name": "stdout",
     "output_type": "stream",
     "text": [
      "+--------------------------------------------------------------------------------------------------------------------+----+\n",
      "|tweet                                                                                                               |comp|\n",
      "+--------------------------------------------------------------------------------------------------------------------+----+\n",
      "|The founder of Shake Shack says his company will require proof of Covid vaccination for both employees AND customers|0   |\n",
      "|Figure that COVID isnt trying to destroy a political party it is trying to destroy an entire                        |0   |\n",
      "+--------------------------------------------------------------------------------------------------------------------+----+\n",
      "only showing top 2 rows\n",
      "\n"
     ]
    },
    {
     "name": "stderr",
     "output_type": "stream",
     "text": [
      "                                                                                \r"
     ]
    },
    {
     "name": "stdout",
     "output_type": "stream",
     "text": [
      "Error: <class 'requests.exceptions.ConnectionError'>\n",
      "HASHTAG----------- 2021-07-29 23:11:06 -----------\n",
      "+--------+-------------+\n",
      "| hashtag|hashtag_count|\n",
      "+--------+-------------+\n",
      "|  #COVID|          315|\n",
      "|#COVID19|           76|\n",
      "+--------+-------------+\n",
      "only showing top 2 rows\n",
      "\n",
      "Error: <class 'requests.exceptions.ConnectionError'>\n",
      "MENTION----------- 2021-07-29 23:11:06 -----------\n",
      "Error: <class 'requests.exceptions.ConnectionError'>\n",
      "SENTIMENT----------- 2021-07-29 23:11:06 -----------\n",
      "+--------------------------------------------------------------------------------------------------------------------+----+\n",
      "|tweet                                                                                                               |comp|\n",
      "+--------------------------------------------------------------------------------------------------------------------+----+\n",
      "|The founder of Shake Shack says his company will require proof of Covid vaccination for both employees AND customers|0   |\n",
      "|Figure that COVID isnt trying to destroy a political party it is trying to destroy an entire                        |0   |\n",
      "+--------------------------------------------------------------------------------------------------------------------+----+\n",
      "only showing top 2 rows\n",
      "\n"
     ]
    },
    {
     "name": "stderr",
     "output_type": "stream",
     "text": [
      "                                                                                \r"
     ]
    },
    {
     "name": "stdout",
     "output_type": "stream",
     "text": [
      "Error: <class 'requests.exceptions.ConnectionError'>\n",
      "HASHTAG----------- 2021-07-29 23:11:08 -----------\n",
      "+--------+-------------+\n",
      "| hashtag|hashtag_count|\n",
      "+--------+-------------+\n",
      "|  #COVID|          315|\n",
      "|#COVID19|           76|\n",
      "+--------+-------------+\n",
      "only showing top 2 rows\n",
      "\n",
      "Error: <class 'requests.exceptions.ConnectionError'>\n",
      "MENTION----------- 2021-07-29 23:11:08 -----------\n",
      "Error: <class 'requests.exceptions.ConnectionError'>\n",
      "SENTIMENT----------- 2021-07-29 23:11:08 -----------\n",
      "+--------------------------------------------------------------------------------------------------------------------+----+\n",
      "|tweet                                                                                                               |comp|\n",
      "+--------------------------------------------------------------------------------------------------------------------+----+\n",
      "|The founder of Shake Shack says his company will require proof of Covid vaccination for both employees AND customers|0   |\n",
      "|Figure that COVID isnt trying to destroy a political party it is trying to destroy an entire                        |0   |\n",
      "+--------------------------------------------------------------------------------------------------------------------+----+\n",
      "only showing top 2 rows\n",
      "\n"
     ]
    },
    {
     "name": "stderr",
     "output_type": "stream",
     "text": [
      "                                                                                \r"
     ]
    },
    {
     "name": "stdout",
     "output_type": "stream",
     "text": [
      "Error: <class 'requests.exceptions.ConnectionError'>\n",
      "HASHTAG----------- 2021-07-29 23:11:10 -----------\n",
      "+--------+-------------+\n",
      "| hashtag|hashtag_count|\n",
      "+--------+-------------+\n",
      "|  #COVID|          315|\n",
      "|#COVID19|           76|\n",
      "+--------+-------------+\n",
      "only showing top 2 rows\n",
      "\n",
      "Error: <class 'requests.exceptions.ConnectionError'>\n",
      "MENTION----------- 2021-07-29 23:11:10 -----------\n",
      "Error: <class 'requests.exceptions.ConnectionError'>\n",
      "SENTIMENT----------- 2021-07-29 23:11:10 -----------\n",
      "+--------------------------------------------------------------------------------------------------------------------+----+\n",
      "|tweet                                                                                                               |comp|\n",
      "+--------------------------------------------------------------------------------------------------------------------+----+\n",
      "|The founder of Shake Shack says his company will require proof of Covid vaccination for both employees AND customers|0   |\n",
      "|Figure that COVID isnt trying to destroy a political party it is trying to destroy an entire                        |0   |\n",
      "+--------------------------------------------------------------------------------------------------------------------+----+\n",
      "only showing top 2 rows\n",
      "\n"
     ]
    },
    {
     "name": "stderr",
     "output_type": "stream",
     "text": [
      "                                                                                \r"
     ]
    },
    {
     "name": "stdout",
     "output_type": "stream",
     "text": [
      "Error: <class 'requests.exceptions.ConnectionError'>\n",
      "HASHTAG----------- 2021-07-29 23:11:12 -----------\n",
      "+--------+-------------+\n",
      "| hashtag|hashtag_count|\n",
      "+--------+-------------+\n",
      "|  #COVID|          315|\n",
      "|#COVID19|           76|\n",
      "+--------+-------------+\n",
      "only showing top 2 rows\n",
      "\n",
      "Error: <class 'requests.exceptions.ConnectionError'>\n",
      "MENTION----------- 2021-07-29 23:11:12 -----------\n",
      "Error: <class 'requests.exceptions.ConnectionError'>\n",
      "SENTIMENT----------- 2021-07-29 23:11:12 -----------\n",
      "+--------------------------------------------------------------------------------------------------------------------+----+\n",
      "|tweet                                                                                                               |comp|\n",
      "+--------------------------------------------------------------------------------------------------------------------+----+\n",
      "|The founder of Shake Shack says his company will require proof of Covid vaccination for both employees AND customers|0   |\n",
      "|Figure that COVID isnt trying to destroy a political party it is trying to destroy an entire                        |0   |\n",
      "+--------------------------------------------------------------------------------------------------------------------+----+\n",
      "only showing top 2 rows\n",
      "\n"
     ]
    },
    {
     "name": "stderr",
     "output_type": "stream",
     "text": [
      "                                                                                \r"
     ]
    },
    {
     "name": "stdout",
     "output_type": "stream",
     "text": [
      "Error: <class 'requests.exceptions.ConnectionError'>\n",
      "HASHTAG----------- 2021-07-29 23:11:14 -----------\n",
      "+--------+-------------+\n",
      "| hashtag|hashtag_count|\n",
      "+--------+-------------+\n",
      "|  #COVID|          315|\n",
      "|#COVID19|           76|\n",
      "+--------+-------------+\n",
      "only showing top 2 rows\n",
      "\n",
      "Error: <class 'requests.exceptions.ConnectionError'>\n",
      "MENTION----------- 2021-07-29 23:11:14 -----------\n",
      "Error: <class 'requests.exceptions.ConnectionError'>\n",
      "SENTIMENT----------- 2021-07-29 23:11:14 -----------\n",
      "+--------------------------------------------------------------------------------------------------------------------+----+\n",
      "|tweet                                                                                                               |comp|\n",
      "+--------------------------------------------------------------------------------------------------------------------+----+\n",
      "|The founder of Shake Shack says his company will require proof of Covid vaccination for both employees AND customers|0   |\n",
      "|Figure that COVID isnt trying to destroy a political party it is trying to destroy an entire                        |0   |\n",
      "+--------------------------------------------------------------------------------------------------------------------+----+\n",
      "only showing top 2 rows\n",
      "\n"
     ]
    },
    {
     "name": "stderr",
     "output_type": "stream",
     "text": [
      "                                                                                \r"
     ]
    },
    {
     "name": "stdout",
     "output_type": "stream",
     "text": [
      "Error: <class 'requests.exceptions.ConnectionError'>\n",
      "HASHTAG----------- 2021-07-29 23:11:16 -----------\n",
      "+--------+-------------+\n",
      "| hashtag|hashtag_count|\n",
      "+--------+-------------+\n",
      "|  #COVID|          315|\n",
      "|#COVID19|           76|\n",
      "+--------+-------------+\n",
      "only showing top 2 rows\n",
      "\n",
      "Error: <class 'requests.exceptions.ConnectionError'>\n",
      "MENTION----------- 2021-07-29 23:11:16 -----------\n",
      "Error: <class 'requests.exceptions.ConnectionError'>\n",
      "SENTIMENT----------- 2021-07-29 23:11:16 -----------\n",
      "+--------------------------------------------------------------------------------------------------------------------+----+\n",
      "|tweet                                                                                                               |comp|\n",
      "+--------------------------------------------------------------------------------------------------------------------+----+\n",
      "|The founder of Shake Shack says his company will require proof of Covid vaccination for both employees AND customers|0   |\n",
      "|Figure that COVID isnt trying to destroy a political party it is trying to destroy an entire                        |0   |\n",
      "+--------------------------------------------------------------------------------------------------------------------+----+\n",
      "only showing top 2 rows\n",
      "\n"
     ]
    },
    {
     "name": "stderr",
     "output_type": "stream",
     "text": [
      "                                                                                \r"
     ]
    },
    {
     "name": "stdout",
     "output_type": "stream",
     "text": [
      "Error: <class 'requests.exceptions.ConnectionError'>\n",
      "HASHTAG----------- 2021-07-29 23:11:18 -----------\n",
      "+--------+-------------+\n",
      "| hashtag|hashtag_count|\n",
      "+--------+-------------+\n",
      "|  #COVID|          315|\n",
      "|#COVID19|           76|\n",
      "+--------+-------------+\n",
      "only showing top 2 rows\n",
      "\n",
      "Error: <class 'requests.exceptions.ConnectionError'>\n",
      "MENTION----------- 2021-07-29 23:11:18 -----------\n",
      "Error: <class 'requests.exceptions.ConnectionError'>\n",
      "SENTIMENT----------- 2021-07-29 23:11:18 -----------\n",
      "+--------------------------------------------------------------------------------------------------------------------+----+\n",
      "|tweet                                                                                                               |comp|\n",
      "+--------------------------------------------------------------------------------------------------------------------+----+\n",
      "|The founder of Shake Shack says his company will require proof of Covid vaccination for both employees AND customers|0   |\n",
      "|Figure that COVID isnt trying to destroy a political party it is trying to destroy an entire                        |0   |\n",
      "+--------------------------------------------------------------------------------------------------------------------+----+\n",
      "only showing top 2 rows\n",
      "\n"
     ]
    },
    {
     "name": "stderr",
     "output_type": "stream",
     "text": [
      "                                                                                \r"
     ]
    },
    {
     "name": "stdout",
     "output_type": "stream",
     "text": [
      "Error: <class 'requests.exceptions.ConnectionError'>\n",
      "HASHTAG----------- 2021-07-29 23:11:20 -----------\n",
      "+--------+-------------+\n",
      "| hashtag|hashtag_count|\n",
      "+--------+-------------+\n",
      "|  #COVID|          315|\n",
      "|#COVID19|           76|\n",
      "+--------+-------------+\n",
      "only showing top 2 rows\n",
      "\n",
      "Error: <class 'requests.exceptions.ConnectionError'>\n",
      "MENTION----------- 2021-07-29 23:11:20 -----------\n",
      "Error: <class 'requests.exceptions.ConnectionError'>\n",
      "SENTIMENT----------- 2021-07-29 23:11:20 -----------\n",
      "+--------------------------------------------------------------------------------------------------------------------+----+\n",
      "|tweet                                                                                                               |comp|\n",
      "+--------------------------------------------------------------------------------------------------------------------+----+\n",
      "|The founder of Shake Shack says his company will require proof of Covid vaccination for both employees AND customers|0   |\n",
      "|Figure that COVID isnt trying to destroy a political party it is trying to destroy an entire                        |0   |\n",
      "+--------------------------------------------------------------------------------------------------------------------+----+\n",
      "only showing top 2 rows\n",
      "\n"
     ]
    },
    {
     "name": "stderr",
     "output_type": "stream",
     "text": [
      "                                                                                \r"
     ]
    },
    {
     "name": "stdout",
     "output_type": "stream",
     "text": [
      "Error: <class 'requests.exceptions.ConnectionError'>\n",
      "HASHTAG----------- 2021-07-29 23:11:22 -----------\n",
      "+--------+-------------+\n",
      "| hashtag|hashtag_count|\n",
      "+--------+-------------+\n",
      "|  #COVID|          315|\n",
      "|#COVID19|           76|\n",
      "+--------+-------------+\n",
      "only showing top 2 rows\n",
      "\n",
      "Error: <class 'requests.exceptions.ConnectionError'>\n",
      "MENTION----------- 2021-07-29 23:11:22 -----------\n",
      "Error: <class 'requests.exceptions.ConnectionError'>\n",
      "SENTIMENT----------- 2021-07-29 23:11:22 -----------\n",
      "+--------------------------------------------------------------------------------------------------------------------+----+\n",
      "|tweet                                                                                                               |comp|\n",
      "+--------------------------------------------------------------------------------------------------------------------+----+\n",
      "|The founder of Shake Shack says his company will require proof of Covid vaccination for both employees AND customers|0   |\n",
      "|Figure that COVID isnt trying to destroy a political party it is trying to destroy an entire                        |0   |\n",
      "+--------------------------------------------------------------------------------------------------------------------+----+\n",
      "only showing top 2 rows\n",
      "\n"
     ]
    },
    {
     "name": "stderr",
     "output_type": "stream",
     "text": [
      "                                                                                \r"
     ]
    },
    {
     "name": "stdout",
     "output_type": "stream",
     "text": [
      "Error: <class 'requests.exceptions.ConnectionError'>\n",
      "HASHTAG----------- 2021-07-29 23:11:24 -----------\n",
      "+--------+-------------+\n",
      "| hashtag|hashtag_count|\n",
      "+--------+-------------+\n",
      "|  #COVID|          315|\n",
      "|#COVID19|           76|\n",
      "+--------+-------------+\n",
      "only showing top 2 rows\n",
      "\n",
      "Error: <class 'requests.exceptions.ConnectionError'>\n",
      "MENTION----------- 2021-07-29 23:11:24 -----------\n",
      "Error: <class 'requests.exceptions.ConnectionError'>\n",
      "SENTIMENT----------- 2021-07-29 23:11:24 -----------\n",
      "+--------------------------------------------------------------------------------------------------------------------+----+\n",
      "|tweet                                                                                                               |comp|\n",
      "+--------------------------------------------------------------------------------------------------------------------+----+\n",
      "|The founder of Shake Shack says his company will require proof of Covid vaccination for both employees AND customers|0   |\n",
      "|Figure that COVID isnt trying to destroy a political party it is trying to destroy an entire                        |0   |\n",
      "+--------------------------------------------------------------------------------------------------------------------+----+\n",
      "only showing top 2 rows\n",
      "\n"
     ]
    },
    {
     "name": "stderr",
     "output_type": "stream",
     "text": [
      "                                                                                \r"
     ]
    },
    {
     "name": "stdout",
     "output_type": "stream",
     "text": [
      "Error: <class 'requests.exceptions.ConnectionError'>\n",
      "HASHTAG----------- 2021-07-29 23:11:26 -----------\n",
      "+--------+-------------+\n",
      "| hashtag|hashtag_count|\n",
      "+--------+-------------+\n",
      "|  #COVID|          315|\n",
      "|#COVID19|           76|\n",
      "+--------+-------------+\n",
      "only showing top 2 rows\n",
      "\n",
      "Error: <class 'requests.exceptions.ConnectionError'>\n",
      "MENTION----------- 2021-07-29 23:11:26 -----------\n",
      "Error: <class 'requests.exceptions.ConnectionError'>\n",
      "SENTIMENT----------- 2021-07-29 23:11:26 -----------\n",
      "+--------------------------------------------------------------------------------------------------------------------+----+\n",
      "|tweet                                                                                                               |comp|\n",
      "+--------------------------------------------------------------------------------------------------------------------+----+\n",
      "|The founder of Shake Shack says his company will require proof of Covid vaccination for both employees AND customers|0   |\n",
      "|Figure that COVID isnt trying to destroy a political party it is trying to destroy an entire                        |0   |\n",
      "+--------------------------------------------------------------------------------------------------------------------+----+\n",
      "only showing top 2 rows\n",
      "\n"
     ]
    },
    {
     "name": "stderr",
     "output_type": "stream",
     "text": [
      "                                                                                \r"
     ]
    },
    {
     "name": "stdout",
     "output_type": "stream",
     "text": [
      "Error: <class 'requests.exceptions.ConnectionError'>\n",
      "HASHTAG----------- 2021-07-29 23:11:28 -----------\n",
      "+--------+-------------+\n",
      "| hashtag|hashtag_count|\n",
      "+--------+-------------+\n",
      "|  #COVID|          315|\n",
      "|#COVID19|           76|\n",
      "+--------+-------------+\n",
      "only showing top 2 rows\n",
      "\n",
      "Error: <class 'requests.exceptions.ConnectionError'>\n",
      "MENTION----------- 2021-07-29 23:11:28 -----------\n",
      "Error: <class 'requests.exceptions.ConnectionError'>\n",
      "SENTIMENT----------- 2021-07-29 23:11:28 -----------\n",
      "+--------------------------------------------------------------------------------------------------------------------+----+\n",
      "|tweet                                                                                                               |comp|\n",
      "+--------------------------------------------------------------------------------------------------------------------+----+\n",
      "|The founder of Shake Shack says his company will require proof of Covid vaccination for both employees AND customers|0   |\n",
      "|Figure that COVID isnt trying to destroy a political party it is trying to destroy an entire                        |0   |\n",
      "+--------------------------------------------------------------------------------------------------------------------+----+\n",
      "only showing top 2 rows\n",
      "\n"
     ]
    },
    {
     "name": "stderr",
     "output_type": "stream",
     "text": [
      "                                                                                \r"
     ]
    },
    {
     "name": "stdout",
     "output_type": "stream",
     "text": [
      "Error: <class 'requests.exceptions.ConnectionError'>\n",
      "HASHTAG----------- 2021-07-29 23:11:30 -----------\n",
      "+--------+-------------+\n",
      "| hashtag|hashtag_count|\n",
      "+--------+-------------+\n",
      "|  #COVID|          315|\n",
      "|#COVID19|           76|\n",
      "+--------+-------------+\n",
      "only showing top 2 rows\n",
      "\n",
      "Error: <class 'requests.exceptions.ConnectionError'>\n",
      "MENTION----------- 2021-07-29 23:11:30 -----------\n",
      "Error: <class 'requests.exceptions.ConnectionError'>\n",
      "SENTIMENT----------- 2021-07-29 23:11:30 -----------\n",
      "+--------------------------------------------------------------------------------------------------------------------+----+\n",
      "|tweet                                                                                                               |comp|\n",
      "+--------------------------------------------------------------------------------------------------------------------+----+\n",
      "|The founder of Shake Shack says his company will require proof of Covid vaccination for both employees AND customers|0   |\n",
      "|Figure that COVID isnt trying to destroy a political party it is trying to destroy an entire                        |0   |\n",
      "+--------------------------------------------------------------------------------------------------------------------+----+\n",
      "only showing top 2 rows\n",
      "\n"
     ]
    },
    {
     "name": "stderr",
     "output_type": "stream",
     "text": [
      "                                                                                \r"
     ]
    },
    {
     "name": "stdout",
     "output_type": "stream",
     "text": [
      "Error: <class 'requests.exceptions.ConnectionError'>\n",
      "HASHTAG----------- 2021-07-29 23:11:32 -----------\n",
      "+--------+-------------+\n",
      "| hashtag|hashtag_count|\n",
      "+--------+-------------+\n",
      "|  #COVID|          315|\n",
      "|#COVID19|           76|\n",
      "+--------+-------------+\n",
      "only showing top 2 rows\n",
      "\n",
      "Error: <class 'requests.exceptions.ConnectionError'>\n",
      "MENTION----------- 2021-07-29 23:11:32 -----------\n",
      "Error: <class 'requests.exceptions.ConnectionError'>\n",
      "SENTIMENT----------- 2021-07-29 23:11:32 -----------\n",
      "+--------------------------------------------------------------------------------------------------------------------+----+\n",
      "|tweet                                                                                                               |comp|\n",
      "+--------------------------------------------------------------------------------------------------------------------+----+\n",
      "|The founder of Shake Shack says his company will require proof of Covid vaccination for both employees AND customers|0   |\n",
      "|Figure that COVID isnt trying to destroy a political party it is trying to destroy an entire                        |0   |\n",
      "+--------------------------------------------------------------------------------------------------------------------+----+\n",
      "only showing top 2 rows\n",
      "\n",
      "Error: <class 'requests.exceptions.ConnectionError'>\n",
      "HASHTAG----------- 2021-07-29 23:11:34 -----------\n",
      "+--------+-------------+\n",
      "| hashtag|hashtag_count|\n",
      "+--------+-------------+\n",
      "|  #COVID|          315|\n",
      "|#COVID19|           76|\n",
      "+--------+-------------+\n",
      "only showing top 2 rows\n",
      "\n",
      "Error: <class 'requests.exceptions.ConnectionError'>\n",
      "MENTION----------- 2021-07-29 23:11:34 -----------\n",
      "Error: <class 'requests.exceptions.ConnectionError'>\n",
      "SENTIMENT----------- 2021-07-29 23:11:34 -----------\n",
      "+--------------------------------------------------------------------------------------------------------------------+----+\n",
      "|tweet                                                                                                               |comp|\n",
      "+--------------------------------------------------------------------------------------------------------------------+----+\n",
      "|The founder of Shake Shack says his company will require proof of Covid vaccination for both employees AND customers|0   |\n",
      "|Figure that COVID isnt trying to destroy a political party it is trying to destroy an entire                        |0   |\n",
      "+--------------------------------------------------------------------------------------------------------------------+----+\n",
      "only showing top 2 rows\n",
      "\n"
     ]
    },
    {
     "name": "stderr",
     "output_type": "stream",
     "text": [
      "                                                                                \r"
     ]
    },
    {
     "name": "stdout",
     "output_type": "stream",
     "text": [
      "Error: <class 'requests.exceptions.ConnectionError'>\n",
      "HASHTAG----------- 2021-07-29 23:11:36 -----------\n",
      "+--------+-------------+\n",
      "| hashtag|hashtag_count|\n",
      "+--------+-------------+\n",
      "|  #COVID|          315|\n",
      "|#COVID19|           76|\n",
      "+--------+-------------+\n",
      "only showing top 2 rows\n",
      "\n",
      "Error: <class 'requests.exceptions.ConnectionError'>\n",
      "MENTION----------- 2021-07-29 23:11:36 -----------\n",
      "Error: <class 'requests.exceptions.ConnectionError'>\n",
      "SENTIMENT----------- 2021-07-29 23:11:36 -----------\n",
      "+--------------------------------------------------------------------------------------------------------------------+----+\n",
      "|tweet                                                                                                               |comp|\n",
      "+--------------------------------------------------------------------------------------------------------------------+----+\n",
      "|The founder of Shake Shack says his company will require proof of Covid vaccination for both employees AND customers|0   |\n",
      "|Figure that COVID isnt trying to destroy a political party it is trying to destroy an entire                        |0   |\n",
      "+--------------------------------------------------------------------------------------------------------------------+----+\n",
      "only showing top 2 rows\n",
      "\n"
     ]
    },
    {
     "name": "stderr",
     "output_type": "stream",
     "text": [
      "                                                                                \r"
     ]
    },
    {
     "name": "stdout",
     "output_type": "stream",
     "text": [
      "Error: <class 'requests.exceptions.ConnectionError'>\n",
      "HASHTAG----------- 2021-07-29 23:11:38 -----------\n",
      "+--------+-------------+\n",
      "| hashtag|hashtag_count|\n",
      "+--------+-------------+\n",
      "|  #COVID|          315|\n",
      "|#COVID19|           76|\n",
      "+--------+-------------+\n",
      "only showing top 2 rows\n",
      "\n",
      "Error: <class 'requests.exceptions.ConnectionError'>\n",
      "MENTION----------- 2021-07-29 23:11:38 -----------\n",
      "Error: <class 'requests.exceptions.ConnectionError'>\n",
      "SENTIMENT----------- 2021-07-29 23:11:38 -----------\n",
      "+--------------------------------------------------------------------------------------------------------------------+----+\n",
      "|tweet                                                                                                               |comp|\n",
      "+--------------------------------------------------------------------------------------------------------------------+----+\n",
      "|The founder of Shake Shack says his company will require proof of Covid vaccination for both employees AND customers|0   |\n",
      "|Figure that COVID isnt trying to destroy a political party it is trying to destroy an entire                        |0   |\n",
      "+--------------------------------------------------------------------------------------------------------------------+----+\n",
      "only showing top 2 rows\n",
      "\n",
      "Error: <class 'requests.exceptions.ConnectionError'>\n",
      "HASHTAG----------- 2021-07-29 23:11:40 -----------\n",
      "+--------+-------------+\n",
      "| hashtag|hashtag_count|\n",
      "+--------+-------------+\n",
      "|  #COVID|          315|\n",
      "|#COVID19|           76|\n",
      "+--------+-------------+\n",
      "only showing top 2 rows\n",
      "\n",
      "Error: <class 'requests.exceptions.ConnectionError'>\n",
      "MENTION----------- 2021-07-29 23:11:40 -----------\n",
      "Error: <class 'requests.exceptions.ConnectionError'>\n",
      "SENTIMENT----------- 2021-07-29 23:11:40 -----------\n",
      "+--------------------------------------------------------------------------------------------------------------------+----+\n",
      "|tweet                                                                                                               |comp|\n",
      "+--------------------------------------------------------------------------------------------------------------------+----+\n",
      "|The founder of Shake Shack says his company will require proof of Covid vaccination for both employees AND customers|0   |\n",
      "|Figure that COVID isnt trying to destroy a political party it is trying to destroy an entire                        |0   |\n",
      "+--------------------------------------------------------------------------------------------------------------------+----+\n",
      "only showing top 2 rows\n",
      "\n",
      "Error: <class 'requests.exceptions.ConnectionError'>\n",
      "HASHTAG----------- 2021-07-29 23:11:42 -----------\n",
      "+--------+-------------+\n",
      "| hashtag|hashtag_count|\n",
      "+--------+-------------+\n",
      "|  #COVID|          315|\n",
      "|#COVID19|           76|\n",
      "+--------+-------------+\n",
      "only showing top 2 rows\n",
      "\n",
      "Error: <class 'requests.exceptions.ConnectionError'>\n",
      "MENTION----------- 2021-07-29 23:11:42 -----------\n",
      "Error: <class 'requests.exceptions.ConnectionError'>\n",
      "SENTIMENT----------- 2021-07-29 23:11:42 -----------\n",
      "+--------------------------------------------------------------------------------------------------------------------+----+\n",
      "|tweet                                                                                                               |comp|\n",
      "+--------------------------------------------------------------------------------------------------------------------+----+\n",
      "|The founder of Shake Shack says his company will require proof of Covid vaccination for both employees AND customers|0   |\n",
      "|Figure that COVID isnt trying to destroy a political party it is trying to destroy an entire                        |0   |\n",
      "+--------------------------------------------------------------------------------------------------------------------+----+\n",
      "only showing top 2 rows\n",
      "\n"
     ]
    },
    {
     "name": "stderr",
     "output_type": "stream",
     "text": [
      "                                                                                \r"
     ]
    },
    {
     "name": "stdout",
     "output_type": "stream",
     "text": [
      "Error: <class 'requests.exceptions.ConnectionError'>\n",
      "HASHTAG----------- 2021-07-29 23:11:44 -----------\n",
      "+--------+-------------+\n",
      "| hashtag|hashtag_count|\n",
      "+--------+-------------+\n",
      "|  #COVID|          315|\n",
      "|#COVID19|           76|\n",
      "+--------+-------------+\n",
      "only showing top 2 rows\n",
      "\n",
      "Error: <class 'requests.exceptions.ConnectionError'>\n",
      "MENTION----------- 2021-07-29 23:11:44 -----------\n",
      "Error: <class 'requests.exceptions.ConnectionError'>\n",
      "SENTIMENT----------- 2021-07-29 23:11:44 -----------\n",
      "+--------------------------------------------------------------------------------------------------------------------+----+\n",
      "|tweet                                                                                                               |comp|\n",
      "+--------------------------------------------------------------------------------------------------------------------+----+\n",
      "|The founder of Shake Shack says his company will require proof of Covid vaccination for both employees AND customers|0   |\n",
      "|Figure that COVID isnt trying to destroy a political party it is trying to destroy an entire                        |0   |\n",
      "+--------------------------------------------------------------------------------------------------------------------+----+\n",
      "only showing top 2 rows\n",
      "\n"
     ]
    },
    {
     "name": "stderr",
     "output_type": "stream",
     "text": [
      "                                                                                \r"
     ]
    },
    {
     "name": "stdout",
     "output_type": "stream",
     "text": [
      "Error: <class 'requests.exceptions.ConnectionError'>\n",
      "HASHTAG----------- 2021-07-29 23:11:46 -----------\n",
      "+--------+-------------+\n",
      "| hashtag|hashtag_count|\n",
      "+--------+-------------+\n",
      "|  #COVID|          315|\n",
      "|#COVID19|           76|\n",
      "+--------+-------------+\n",
      "only showing top 2 rows\n",
      "\n",
      "Error: <class 'requests.exceptions.ConnectionError'>\n",
      "MENTION----------- 2021-07-29 23:11:46 -----------\n",
      "Error: <class 'requests.exceptions.ConnectionError'>\n",
      "SENTIMENT----------- 2021-07-29 23:11:46 -----------\n",
      "+--------------------------------------------------------------------------------------------------------------------+----+\n",
      "|tweet                                                                                                               |comp|\n",
      "+--------------------------------------------------------------------------------------------------------------------+----+\n",
      "|The founder of Shake Shack says his company will require proof of Covid vaccination for both employees AND customers|0   |\n",
      "|Figure that COVID isnt trying to destroy a political party it is trying to destroy an entire                        |0   |\n",
      "+--------------------------------------------------------------------------------------------------------------------+----+\n",
      "only showing top 2 rows\n",
      "\n"
     ]
    },
    {
     "name": "stderr",
     "output_type": "stream",
     "text": [
      "                                                                                \r"
     ]
    },
    {
     "name": "stdout",
     "output_type": "stream",
     "text": [
      "Error: <class 'requests.exceptions.ConnectionError'>\n",
      "HASHTAG----------- 2021-07-29 23:11:48 -----------\n",
      "+--------+-------------+\n",
      "| hashtag|hashtag_count|\n",
      "+--------+-------------+\n",
      "|  #COVID|          315|\n",
      "|#COVID19|           76|\n",
      "+--------+-------------+\n",
      "only showing top 2 rows\n",
      "\n",
      "Error: <class 'requests.exceptions.ConnectionError'>\n",
      "MENTION----------- 2021-07-29 23:11:48 -----------\n",
      "Error: <class 'requests.exceptions.ConnectionError'>\n",
      "SENTIMENT----------- 2021-07-29 23:11:48 -----------\n",
      "+--------------------------------------------------------------------------------------------------------------------+----+\n",
      "|tweet                                                                                                               |comp|\n",
      "+--------------------------------------------------------------------------------------------------------------------+----+\n",
      "|The founder of Shake Shack says his company will require proof of Covid vaccination for both employees AND customers|0   |\n",
      "|Figure that COVID isnt trying to destroy a political party it is trying to destroy an entire                        |0   |\n",
      "+--------------------------------------------------------------------------------------------------------------------+----+\n",
      "only showing top 2 rows\n",
      "\n"
     ]
    },
    {
     "name": "stderr",
     "output_type": "stream",
     "text": [
      "                                                                                \r"
     ]
    },
    {
     "name": "stdout",
     "output_type": "stream",
     "text": [
      "Error: <class 'requests.exceptions.ConnectionError'>\n",
      "HASHTAG----------- 2021-07-29 23:11:50 -----------\n",
      "+--------+-------------+\n",
      "| hashtag|hashtag_count|\n",
      "+--------+-------------+\n",
      "|  #COVID|          315|\n",
      "|#COVID19|           76|\n",
      "+--------+-------------+\n",
      "only showing top 2 rows\n",
      "\n",
      "Error: <class 'requests.exceptions.ConnectionError'>\n",
      "MENTION----------- 2021-07-29 23:11:50 -----------\n",
      "Error: <class 'requests.exceptions.ConnectionError'>\n",
      "SENTIMENT----------- 2021-07-29 23:11:50 -----------\n",
      "+--------------------------------------------------------------------------------------------------------------------+----+\n",
      "|tweet                                                                                                               |comp|\n",
      "+--------------------------------------------------------------------------------------------------------------------+----+\n",
      "|The founder of Shake Shack says his company will require proof of Covid vaccination for both employees AND customers|0   |\n",
      "|Figure that COVID isnt trying to destroy a political party it is trying to destroy an entire                        |0   |\n",
      "+--------------------------------------------------------------------------------------------------------------------+----+\n",
      "only showing top 2 rows\n",
      "\n"
     ]
    },
    {
     "name": "stderr",
     "output_type": "stream",
     "text": [
      "[Stage 0:>                  (0 + 1) / 1][Stage 3663:>               (0 + 1) / 1]\r"
     ]
    }
   ],
   "source": [
    "try:\n",
    "    # start the streaming computation\n",
    "    ssc.start()\n",
    "    # wait for the streaming to finish\n",
    "    ssc.awaitTermination()\n",
    "except KeyboardInterrupt:\n",
    "    ssc.stop()\n",
    "    print('Interrupted')"
   ]
  },
  {
   "cell_type": "code",
   "execution_count": null,
   "id": "acfea21b-dfca-40d9-a3dc-07b672526a32",
   "metadata": {},
   "outputs": [],
   "source": []
  },
  {
   "cell_type": "code",
   "execution_count": null,
   "id": "0d47145b-fd2f-4de7-9e57-f4bc3874502c",
   "metadata": {},
   "outputs": [],
   "source": []
  }
 ],
 "metadata": {
  "kernelspec": {
   "display_name": "Python 3 (ipykernel)",
   "language": "python",
   "name": "python3"
  },
  "language_info": {
   "codemirror_mode": {
    "name": "ipython",
    "version": 3
   },
   "file_extension": ".py",
   "mimetype": "text/x-python",
   "name": "python",
   "nbconvert_exporter": "python",
   "pygments_lexer": "ipython3",
   "version": "3.8.8"
  }
 },
 "nbformat": 4,
 "nbformat_minor": 5
}
